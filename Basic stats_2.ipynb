{
 "cells": [
  {
   "cell_type": "code",
   "execution_count": 1,
   "id": "e5855176",
   "metadata": {},
   "outputs": [
    {
     "name": "stdout",
     "output_type": "stream",
     "text": [
      "[1.13, 1.55, 1.43, 0.92, 1.25, 1.36, 1.32, 0.85, 1.07, 1.48, 1.2, 1.33, 1.18, 1.22, 1.29]\n"
     ]
    }
   ],
   "source": [
    "data=[1.13,1.55,1.43,0.92,1.25,1.36,1.32,0.85,1.07, 1.48, 1.20, 1.33, 1.18, 1.22, 1.29] #Store the data into data variable\n",
    "print(data) #displaying the stored data"
   ]
  },
  {
   "cell_type": "code",
   "execution_count": 2,
   "id": "4efecac9",
   "metadata": {},
   "outputs": [
    {
     "name": "stdout",
     "output_type": "stream",
     "text": [
      "Mean:  1.239\n",
      "Standard Deviation:  0.193\n"
     ]
    }
   ],
   "source": [
    "def Avg(x): #Creating function for calculating mean\n",
    "    return sum(x)/len(x) #Calculating the mean of the data\n",
    "\n",
    "def std_dev(x): #Creating function for calculating standard deviation\n",
    "    return (sum((i-Avg(x))**2 for i in x)/(len(x)-1))**0.5 #Calculating the standard deviation of the data\n",
    "\n",
    "mean = round(Avg(data),3) #make the mean value upto 3 decimals\n",
    "stan_dev = round(std_dev(data),3) #make standard deviation value upto 3 decimals\n",
    "print(\"Mean: \",mean) #display the mean value\n",
    "print(\"Standard Deviation: \",stan_dev) #display the standard deviation value"
   ]
  },
  {
   "cell_type": "markdown",
   "id": "0c4100f3",
   "metadata": {},
   "source": [
    "## a. Build 99% Confidence Interval Using Sample Standard Deviation"
   ]
  },
  {
   "cell_type": "code",
   "execution_count": 3,
   "id": "b078f146",
   "metadata": {},
   "outputs": [
    {
     "data": {
      "text/plain": [
       "2.624"
      ]
     },
     "execution_count": 3,
     "metadata": {},
     "output_type": "execute_result"
    }
   ],
   "source": [
    "from scipy.stats import t\n",
    "t = round(t.ppf(0.99, df=(len(data)-1)),3) # Calculate the t value for a 99% confidence interval\n",
    "t"
   ]
  },
  {
   "cell_type": "code",
   "execution_count": 4,
   "id": "4557d7d3",
   "metadata": {},
   "outputs": [
    {
     "name": "stdout",
     "output_type": "stream",
     "text": [
      "Marginal Error:  0.131\n"
     ]
    }
   ],
   "source": [
    "Marginal_Error = t*(stan_dev/(len(data)**0.5)) #Claculating the marginal error\n",
    "Marginal_Error = round(Marginal_Error,3) #make marginal error upto 3 decimal value\n",
    "print(\"Marginal Error: \",Marginal_Error) #displaying the marginal error"
   ]
  },
  {
   "cell_type": "code",
   "execution_count": 5,
   "id": "fe863dfa",
   "metadata": {},
   "outputs": [
    {
     "name": "stdout",
     "output_type": "stream",
     "text": [
      "Lower Limit:  1.108\n",
      "Upper Limit:  1.37\n"
     ]
    }
   ],
   "source": [
    "print(\"Lower Limit: \",mean-Marginal_Error) #Displaying the lower limit in confidence interval\n",
    "print(\"Upper Limit: \",mean+Marginal_Error) #Displaying the upper limit in confidence interval"
   ]
  },
  {
   "cell_type": "code",
   "execution_count": 6,
   "id": "2b7fd9d9",
   "metadata": {},
   "outputs": [
    {
     "name": "stdout",
     "output_type": "stream",
     "text": [
      "Lower Limit:  1.09\n",
      "Upper Limit:  1.387\n"
     ]
    }
   ],
   "source": [
    "import numpy as np #importing the numpy library\n",
    "import scipy.stats as st #importing statistics library from scipy\n",
    "\n",
    "t_Boundaries = list(st.t.interval(0.99, len(data)-1, loc=np.mean(data), scale=st.sem(data))) #Calculating the confidence interval using built-in methods\n",
    "print(\"Lower Limit: \",round(t_Boundaries[0],3)) #Displaying lower limit of data upto 3 decimal\n",
    "print(\"Upper Limit: \",round(t_Boundaries[1],3)) #Displaying upper limit of data upto 3 decimal\n",
    "\n",
    "     "
   ]
  },
  {
   "cell_type": "markdown",
   "id": "d4fcf586",
   "metadata": {},
   "source": [
    "## b. Build 99% Confidence Interval Using Known Population Standard Deviation"
   ]
  },
  {
   "cell_type": "code",
   "execution_count": 7,
   "id": "74a6ffad",
   "metadata": {},
   "outputs": [
    {
     "data": {
      "text/plain": [
       "2.58"
      ]
     },
     "execution_count": 7,
     "metadata": {},
     "output_type": "execute_result"
    }
   ],
   "source": [
    "from scipy.stats import norm\n",
    "z = round(norm.ppf(0.995),2) # Calculate the z value for a 99% confidence interval\n",
    "z\n",
    "     "
   ]
  },
  {
   "cell_type": "code",
   "execution_count": 8,
   "id": "a44ee1e0",
   "metadata": {},
   "outputs": [
    {
     "name": "stdout",
     "output_type": "stream",
     "text": [
      "Marginal Error:  0.133\n"
     ]
    }
   ],
   "source": [
    "Marginal_Error = z*(0.2/(len(data)**0.5)) #Calculating the marginal error with help of z(critical value)\n",
    "Marginal_Error = round(Marginal_Error,3) #Make the marginal error into 3 decimal\n",
    "print(\"Marginal Error: \",Marginal_Error) #Displaying marginal error\n",
    "     \n"
   ]
  },
  {
   "cell_type": "code",
   "execution_count": 9,
   "id": "24a46e3a",
   "metadata": {},
   "outputs": [
    {
     "name": "stdout",
     "output_type": "stream",
     "text": [
      "Lower Limit:  1.106\n",
      "Upper Limit:  1.372\n"
     ]
    }
   ],
   "source": [
    "print(\"Lower Limit: \",round(mean-Marginal_Error,3)) #Displaying lower limit of data upto 3 decimal\n",
    "print(\"Upper Limit: \",round(mean+Marginal_Error,3)) #Displaying upper limit of data upto 3 decimal\n",
    "    "
   ]
  },
  {
   "cell_type": "code",
   "execution_count": 10,
   "id": "ac43f6d8",
   "metadata": {},
   "outputs": [
    {
     "name": "stdout",
     "output_type": "stream",
     "text": [
      "Lower Limit:  1.11\n",
      "Upper Limit:  1.367\n"
     ]
    }
   ],
   "source": [
    "z_Boundaries = st.norm.interval(0.99, loc=np.mean(data), scale=st.sem(data)) #Calculating the confidence interval using built-in methods\n",
    "print(\"Lower Limit: \",round(z_Boundaries[0],3)) #Displaying lower limit of data upto 3 decimal\n",
    "print(\"Upper Limit: \",round(z_Boundaries[1],3)) #Displaying upper limit of data upto 3 decimal\n",
    "     "
   ]
  }
 ],
 "metadata": {
  "kernelspec": {
   "display_name": "Python 3 (ipykernel)",
   "language": "python",
   "name": "python3"
  },
  "language_info": {
   "codemirror_mode": {
    "name": "ipython",
    "version": 3
   },
   "file_extension": ".py",
   "mimetype": "text/x-python",
   "name": "python",
   "nbconvert_exporter": "python",
   "pygments_lexer": "ipython3",
   "version": "3.10.18"
  }
 },
 "nbformat": 4,
 "nbformat_minor": 5
}
