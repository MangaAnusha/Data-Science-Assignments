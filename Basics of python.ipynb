{
 "cells": [
  {
   "cell_type": "markdown",
   "id": "28494132",
   "metadata": {},
   "source": [
    "## CHECK GIVEN NUMBER IS PRIME OR NOT:"
   ]
  },
  {
   "cell_type": "markdown",
   "id": "33ae6551",
   "metadata": {},
   "source": [
    "#### Write a Python program that checks whether a given number is prime or not. A prime number is a natural number greater than 1 that has no positive divisors other than 1 and itself"
   ]
  },
  {
   "cell_type": "code",
   "execution_count": 1,
   "id": "75820568",
   "metadata": {},
   "outputs": [
    {
     "name": "stdin",
     "output_type": "stream",
     "text": [
      "Enter a Number:  6\n"
     ]
    },
    {
     "name": "stdout",
     "output_type": "stream",
     "text": [
      "6 Is not a Prime Number\n"
     ]
    }
   ],
   "source": [
    "Num = int(input(\"Enter a Number: \"))\n",
    "if Num>1:\n",
    "  for i in range(2,Num):\n",
    "    if Num%i==0:\n",
    "      print(Num, \"Is not a Prime Number\")\n",
    "      break\n",
    "    else:\n",
    "      print(Num, \"Is a Prime Number\")\n",
    "      break\n",
    "else:\n",
    "  print(Num, \"Is not a prime number\")\n",
    "     \n"
   ]
  },
  {
   "cell_type": "markdown",
   "id": "c80b3d8d",
   "metadata": {},
   "source": [
    "#### Product of Random Numbers:"
   ]
  },
  {
   "cell_type": "markdown",
   "id": "68ac0f62",
   "metadata": {},
   "source": [
    "#### Develop a Python program that generates two random numbers and asks the user to enter the product of these numbers. The program should then check if the user's answer is correct and display an appropriate message."
   ]
  },
  {
   "cell_type": "code",
   "execution_count": 2,
   "id": "75e7ba9b",
   "metadata": {},
   "outputs": [
    {
     "name": "stdin",
     "output_type": "stream",
     "text": [
      "Enter Number: 5\n"
     ]
    },
    {
     "name": "stdout",
     "output_type": "stream",
     "text": [
      "Wrong\n"
     ]
    }
   ],
   "source": [
    "import random\n",
    "Num1=random.randrange(15)\n",
    "Num2=random.randrange(15)\n",
    "Result1=Num1*Num2\n",
    "Result2=int(input(\"Enter Number:\"))\n",
    "if Result1==Result2:\n",
    "  print(\"Correct\")\n",
    "else:\n",
    "  print(\"Wrong\")"
   ]
  },
  {
   "cell_type": "markdown",
   "id": "d22bb5df",
   "metadata": {},
   "source": [
    "### Squares of Even/Odd Numbers:"
   ]
  },
  {
   "cell_type": "markdown",
   "id": "1d22f75a",
   "metadata": {},
   "source": [
    "#### Create a Python script that prints the squares of all even or odd numbers within the range of 100 to 200. Choose either even or odd numbers and document your choice in the code."
   ]
  },
  {
   "cell_type": "code",
   "execution_count": 3,
   "id": "604741c0",
   "metadata": {},
   "outputs": [
    {
     "name": "stdout",
     "output_type": "stream",
     "text": [
      "[10000, 10201, 10404, 10609, 10816, 11025, 11236, 11449, 11664, 11881, 12100, 12321, 12544, 12769, 12996, 13225, 13456, 13689, 13924, 14161, 14400, 14641, 14884, 15129, 15376, 15625, 15876, 16129, 16384, 16641, 16900, 17161, 17424, 17689, 17956, 18225, 18496, 18769, 19044, 19321, 19600, 19881, 20164, 20449, 20736, 21025, 21316, 21609, 21904, 22201, 22500, 22801, 23104, 23409, 23716, 24025, 24336, 24649, 24964, 25281, 25600, 25921, 26244, 26569, 26896, 27225, 27556, 27889, 28224, 28561, 28900, 29241, 29584, 29929, 30276, 30625, 30976, 31329, 31684, 32041, 32400, 32761, 33124, 33489, 33856, 34225, 34596, 34969, 35344, 35721, 36100, 36481, 36864, 37249, 37636, 38025, 38416, 38809, 39204, 39601, 40000]\n"
     ]
    }
   ],
   "source": [
    "list1=[]\n",
    "for i in range(100,201,1):\n",
    "  list1.append(i**2)\n",
    "print(list1)"
   ]
  },
  {
   "cell_type": "markdown",
   "id": "8899d847",
   "metadata": {},
   "source": [
    "### Word Counter::"
   ]
  },
  {
   "cell_type": "markdown",
   "id": "05423382",
   "metadata": {},
   "source": [
    "#### write a program to count the number of words in a given text. example: input_text = \"This is a sample text. This text will be used to demonstrate the word counter.\" Expected output:'This': 2, 'is': 1, 'a': 1,'sample': 1,'text.': 1"
   ]
  },
  {
   "cell_type": "code",
   "execution_count": 4,
   "id": "23d822a1",
   "metadata": {},
   "outputs": [
    {
     "name": "stdin",
     "output_type": "stream",
     "text": [
      "Enter a String: This is a sample text.This text will be used to demonstrate the world counter.\n"
     ]
    },
    {
     "name": "stdout",
     "output_type": "stream",
     "text": [
      "{'This': 1, 'is': 1, 'a': 1, 'sample': 1, 'text.This': 1, 'text': 1, 'will': 1, 'be': 1, 'used': 1, 'to': 1, 'demonstrate': 1, 'the': 1, 'world': 1, 'counter.': 1}\n"
     ]
    }
   ],
   "source": [
    "string=list(input(\"Enter a String:\").split(\" \"))\n",
    "dict1={}\n",
    "for i in string:\n",
    "  dict1[i]=string.count(i)\n",
    "print(dict1)"
   ]
  },
  {
   "cell_type": "markdown",
   "id": "f00f4350",
   "metadata": {},
   "source": [
    "### Check for Palindrome:"
   ]
  },
  {
   "cell_type": "markdown",
   "id": "7104932c",
   "metadata": {},
   "source": [
    "#### Write a Python function called is_palindrome that takes a string as input and returns True if the string is a palindrome, and False otherwise. A palindrome is a word, phrase, number, or other sequence of characters that reads the same forward and backward, ignoring spaces, punctuation, and capitalization. Example: Input: \"racecar\" Expected Output: True"
   ]
  },
  {
   "cell_type": "code",
   "execution_count": null,
   "id": "79605d7f",
   "metadata": {},
   "outputs": [],
   "source": [
    "string=input(\"Enter a string:\")\n",
    "if string==string[::-1]:\n",
    "    print(\"Palindrome\")\n",
    "else:\n",
    "    print(\"Not a Palindrome\")"
   ]
  },
  {
   "cell_type": "code",
   "execution_count": null,
   "id": "a70d4ddb-262d-47d4-8a8f-bc8b4851814b",
   "metadata": {},
   "outputs": [],
   "source": []
  }
 ],
 "metadata": {
  "kernelspec": {
   "display_name": "Python 3 (ipykernel)",
   "language": "python",
   "name": "python3"
  },
  "language_info": {
   "codemirror_mode": {
    "name": "ipython",
    "version": 3
   },
   "file_extension": ".py",
   "mimetype": "text/x-python",
   "name": "python",
   "nbconvert_exporter": "python",
   "pygments_lexer": "ipython3",
   "version": "3.10.18"
  }
 },
 "nbformat": 4,
 "nbformat_minor": 5
}
