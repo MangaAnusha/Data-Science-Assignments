{
 "cells": [
  {
   "cell_type": "code",
   "execution_count": 1,
   "id": "03ec0506",
   "metadata": {},
   "outputs": [
    {
     "data": {
      "text/html": [
       "<div>\n",
       "<style scoped>\n",
       "    .dataframe tbody tr th:only-of-type {\n",
       "        vertical-align: middle;\n",
       "    }\n",
       "\n",
       "    .dataframe tbody tr th {\n",
       "        vertical-align: top;\n",
       "    }\n",
       "\n",
       "    .dataframe thead th {\n",
       "        text-align: right;\n",
       "    }\n",
       "</style>\n",
       "<table border=\"1\" class=\"dataframe\">\n",
       "  <thead>\n",
       "    <tr style=\"text-align: right;\">\n",
       "      <th></th>\n",
       "      <th>Satisfaction</th>\n",
       "      <th>Smart Thermostat</th>\n",
       "      <th>Smart Light</th>\n",
       "      <th>Total</th>\n",
       "    </tr>\n",
       "  </thead>\n",
       "  <tbody>\n",
       "    <tr>\n",
       "      <th>0</th>\n",
       "      <td>Very Satisfied</td>\n",
       "      <td>50</td>\n",
       "      <td>70</td>\n",
       "      <td>120</td>\n",
       "    </tr>\n",
       "    <tr>\n",
       "      <th>1</th>\n",
       "      <td>Satisfied</td>\n",
       "      <td>80</td>\n",
       "      <td>100</td>\n",
       "      <td>180</td>\n",
       "    </tr>\n",
       "    <tr>\n",
       "      <th>2</th>\n",
       "      <td>Neutral</td>\n",
       "      <td>60</td>\n",
       "      <td>90</td>\n",
       "      <td>150</td>\n",
       "    </tr>\n",
       "    <tr>\n",
       "      <th>3</th>\n",
       "      <td>Unsatisfied</td>\n",
       "      <td>30</td>\n",
       "      <td>50</td>\n",
       "      <td>80</td>\n",
       "    </tr>\n",
       "    <tr>\n",
       "      <th>4</th>\n",
       "      <td>Very Unsatisfied</td>\n",
       "      <td>20</td>\n",
       "      <td>50</td>\n",
       "      <td>70</td>\n",
       "    </tr>\n",
       "    <tr>\n",
       "      <th>5</th>\n",
       "      <td>Total</td>\n",
       "      <td>240</td>\n",
       "      <td>360</td>\n",
       "      <td>600</td>\n",
       "    </tr>\n",
       "  </tbody>\n",
       "</table>\n",
       "</div>"
      ],
      "text/plain": [
       "       Satisfaction  Smart Thermostat  Smart Light  Total\n",
       "0    Very Satisfied                50           70    120\n",
       "1         Satisfied                80          100    180\n",
       "2           Neutral                60           90    150\n",
       "3       Unsatisfied                30           50     80\n",
       "4  Very Unsatisfied                20           50     70\n",
       "5             Total               240          360    600"
      ]
     },
     "execution_count": 1,
     "metadata": {},
     "output_type": "execute_result"
    }
   ],
   "source": [
    "import pandas as pd\n",
    "data = pd.read_excel('Chisquare.xlsx')\n",
    "data\n"
   ]
  },
  {
   "cell_type": "markdown",
   "id": "188f646a",
   "metadata": {},
   "source": [
    "#### State the Hypothesis:"
   ]
  },
  {
   "cell_type": "code",
   "execution_count": 2,
   "id": "6c91f915",
   "metadata": {},
   "outputs": [],
   "source": [
    "import warnings\n",
    "warnings.filterwarnings('ignore')"
   ]
  },
  {
   "cell_type": "code",
   "execution_count": 3,
   "id": "2a34e3bc",
   "metadata": {},
   "outputs": [
    {
     "data": {
      "text/plain": [
       "array([[0, 0],\n",
       "       [0, 0],\n",
       "       [0, 0],\n",
       "       [0, 0],\n",
       "       [0, 0]])"
      ]
     },
     "execution_count": 3,
     "metadata": {},
     "output_type": "execute_result"
    }
   ],
   "source": [
    "import numpy as np\n",
    "df = np.random.randint(0,1,10).reshape((5,2)) #Creating a dummy matrix for store Expected frequencies\n",
    "df"
   ]
  },
  {
   "cell_type": "markdown",
   "id": "7678d5bd",
   "metadata": {},
   "source": [
    "### Compute the Chi-Square Statistics:"
   ]
  },
  {
   "cell_type": "code",
   "execution_count": 5,
   "id": "caae8962",
   "metadata": {},
   "outputs": [
    {
     "data": {
      "text/plain": [
       "array([[ 48,  72],\n",
       "       [ 72, 108],\n",
       "       [ 60,  90],\n",
       "       [ 32,  48],\n",
       "       [ 28,  42]])"
      ]
     },
     "execution_count": 5,
     "metadata": {},
     "output_type": "execute_result"
    }
   ],
   "source": [
    "for i in range(5):\n",
    "    for j in range(2):\n",
    "        df[i][j] = (data.loc[i][3]*data.loc[5][j+1])/data.loc[5][3] #Updating the Expected frequencies to dummy matrix\n",
    "df"
   ]
  },
  {
   "cell_type": "code",
   "execution_count": 6,
   "id": "f713e2dc",
   "metadata": {},
   "outputs": [
    {
     "data": {
      "text/plain": [
       "array([[ 50,  70],\n",
       "       [ 80, 100],\n",
       "       [ 60,  90],\n",
       "       [ 30,  50],\n",
       "       [ 20,  50]])"
      ]
     },
     "execution_count": 6,
     "metadata": {},
     "output_type": "execute_result"
    }
   ],
   "source": [
    "df1 = np.random.randint(0,1,10).reshape((5,2))\n",
    "for i in range(5):\n",
    "    for j in range(2):\n",
    "        df1[i][j] = data.loc[i][j+1] #Separate main data points from data source for easy calculations\n",
    "df1        "
   ]
  },
  {
   "cell_type": "code",
   "execution_count": 7,
   "id": "090297d3",
   "metadata": {},
   "outputs": [
    {
     "data": {
      "text/plain": [
       "5.638"
      ]
     },
     "execution_count": 7,
     "metadata": {},
     "output_type": "execute_result"
    }
   ],
   "source": [
    "X =[]\n",
    "for i in range(5):\n",
    "    for j in range(2):\n",
    "        X.append((((df1[i][j]-df[i][j])**2)/df[i][j]))#Calculating the Chi-Square statistics for each data point and append to x\n",
    "X_Square=round(sum(X),3) #Calculating the sum of Chi-Square statistics for all data point for all dta point for X^2\n",
    "X_Square                \n",
    "                 "
   ]
  },
  {
   "cell_type": "markdown",
   "id": "858b5d85-a387-45c8-b067-806308d80003",
   "metadata": {},
   "source": [
    "### Determine the Critical value:"
   ]
  },
  {
   "cell_type": "code",
   "execution_count": 8,
   "id": "9f33fad0",
   "metadata": {},
   "outputs": [
    {
     "data": {
      "text/plain": [
       "4"
      ]
     },
     "execution_count": 8,
     "metadata": {},
     "output_type": "execute_result"
    }
   ],
   "source": [
    "degree_of_freedom = (len(df1)-1)*(len(df1.T)-1) #Calculating the degree of freedom\n",
    "degree_of_freedom"
   ]
  },
  {
   "cell_type": "code",
   "execution_count": 9,
   "id": "59616a5c",
   "metadata": {},
   "outputs": [
    {
     "data": {
      "text/plain": [
       "9.488"
      ]
     },
     "execution_count": 9,
     "metadata": {},
     "output_type": "execute_result"
    }
   ],
   "source": [
    "from scipy.stats import chi2\n",
    "df = 4 #degrees of freedom\n",
    "alpha = 0.05 #significance level\n",
    "Critical_Value = round(chi2.ppf(1-alpha, df),3) #Calculating critical value\n",
    "Critical_Value"
   ]
  },
  {
   "cell_type": "markdown",
   "id": "b23da9bd",
   "metadata": {},
   "source": [
    "### Make a Decision:"
   ]
  },
  {
   "cell_type": "code",
   "execution_count": 10,
   "id": "3a3ab035",
   "metadata": {},
   "outputs": [
    {
     "name": "stdout",
     "output_type": "stream",
     "text": [
      "Failed To Reject The Null Hypothesis\n"
     ]
    }
   ],
   "source": [
    "if X_Square > Critical_Value: #Compare the Chi-Square statistics with the critical value to decide whether to reject the null hypothesis\n",
    "    print(\"Rejected The Null hypothesis\")\n",
    "else:\n",
    "    print(\"Failed To Reject The Null Hypothesis\")"
   ]
  },
  {
   "cell_type": "markdown",
   "id": "285416b1",
   "metadata": {},
   "source": [
    "As per results we accept the alternate hypothesis.So there's a significant association between type of device purchased and the customer's satisfaction level."
   ]
  }
 ],
 "metadata": {
  "kernelspec": {
   "display_name": "Python 3 (ipykernel)",
   "language": "python",
   "name": "python3"
  },
  "language_info": {
   "codemirror_mode": {
    "name": "ipython",
    "version": 3
   },
   "file_extension": ".py",
   "mimetype": "text/x-python",
   "name": "python",
   "nbconvert_exporter": "python",
   "pygments_lexer": "ipython3",
   "version": "3.10.18"
  }
 },
 "nbformat": 4,
 "nbformat_minor": 5
}
