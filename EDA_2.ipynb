{
 "cells": [
  {
   "cell_type": "code",
   "execution_count": 1,
   "id": "c3ed18b1-05f4-4d12-8294-ecc933046610",
   "metadata": {},
   "outputs": [],
   "source": [
    "import pandas as pd\n",
    "import numpy as np\n",
    "import matplotlib.pyplot as plt\n",
    "import seaborn as sns\n",
    "import plotly.express as px\n",
    "import warnings\n",
    "warnings.filterwarnings('ignore')"
   ]
  },
  {
   "cell_type": "code",
   "execution_count": 2,
   "id": "9131d0a8-5025-48b3-9f34-a7721cdcbffb",
   "metadata": {},
   "outputs": [
    {
     "data": {
      "text/html": [
       "<div>\n",
       "<style scoped>\n",
       "    .dataframe tbody tr th:only-of-type {\n",
       "        vertical-align: middle;\n",
       "    }\n",
       "\n",
       "    .dataframe tbody tr th {\n",
       "        vertical-align: top;\n",
       "    }\n",
       "\n",
       "    .dataframe thead th {\n",
       "        text-align: right;\n",
       "    }\n",
       "</style>\n",
       "<table border=\"1\" class=\"dataframe\">\n",
       "  <thead>\n",
       "    <tr style=\"text-align: right;\">\n",
       "      <th></th>\n",
       "      <th>age</th>\n",
       "      <th>workclass</th>\n",
       "      <th>fnlwgt</th>\n",
       "      <th>education</th>\n",
       "      <th>education_num</th>\n",
       "      <th>marital_status</th>\n",
       "      <th>occupation</th>\n",
       "      <th>relationship</th>\n",
       "      <th>race</th>\n",
       "      <th>sex</th>\n",
       "      <th>capital_gain</th>\n",
       "      <th>capital_loss</th>\n",
       "      <th>hours_per_week</th>\n",
       "      <th>native_country</th>\n",
       "      <th>income</th>\n",
       "    </tr>\n",
       "  </thead>\n",
       "  <tbody>\n",
       "    <tr>\n",
       "      <th>11340</th>\n",
       "      <td>30</td>\n",
       "      <td>?</td>\n",
       "      <td>288419</td>\n",
       "      <td>5th-6th</td>\n",
       "      <td>3</td>\n",
       "      <td>Married-civ-spouse</td>\n",
       "      <td>?</td>\n",
       "      <td>Husband</td>\n",
       "      <td>White</td>\n",
       "      <td>Male</td>\n",
       "      <td>0</td>\n",
       "      <td>0</td>\n",
       "      <td>40</td>\n",
       "      <td>Mexico</td>\n",
       "      <td>&lt;=50K</td>\n",
       "    </tr>\n",
       "  </tbody>\n",
       "</table>\n",
       "</div>"
      ],
      "text/plain": [
       "       age workclass  fnlwgt education  education_num       marital_status  \\\n",
       "11340   30         ?  288419   5th-6th              3   Married-civ-spouse   \n",
       "\n",
       "      occupation relationship    race    sex  capital_gain  capital_loss  \\\n",
       "11340          ?      Husband   White   Male             0             0   \n",
       "\n",
       "       hours_per_week native_country  income  \n",
       "11340              40         Mexico   <=50K  "
      ]
     },
     "execution_count": 2,
     "metadata": {},
     "output_type": "execute_result"
    }
   ],
   "source": [
    "adult = pd.read_csv('adult_with_headers.csv')\n",
    "adult.sample()"
   ]
  },
  {
   "cell_type": "code",
   "execution_count": null,
   "id": "a0729191-8a04-45cd-997a-b833a0f12925",
   "metadata": {},
   "outputs": [],
   "source": [
    "adult.info()"
   ]
  },
  {
   "cell_type": "code",
   "execution_count": null,
   "id": "c9fc848f-64d1-40af-84bf-664d141b0a4d",
   "metadata": {},
   "outputs": [],
   "source": [
    "adult.isna().sum()"
   ]
  },
  {
   "cell_type": "code",
   "execution_count": 5,
   "id": "74795645-6d37-45cb-a7f3-84f56665c0c6",
   "metadata": {},
   "outputs": [
    {
     "data": {
      "text/plain": [
       "24"
      ]
     },
     "execution_count": 5,
     "metadata": {},
     "output_type": "execute_result"
    }
   ],
   "source": [
    "adult.duplicated().sum()"
   ]
  },
  {
   "cell_type": "code",
   "execution_count": null,
   "id": "297348cc-334d-4073-92dd-95ffc21aa747",
   "metadata": {},
   "outputs": [],
   "source": [
    "adult[adult.duplicated()]"
   ]
  },
  {
   "cell_type": "code",
   "execution_count": null,
   "id": "874f25d2-6423-411e-a644-b7be0b7eda2f",
   "metadata": {},
   "outputs": [],
   "source": [
    "adult = adult.drop_duplicates()\n",
    "adult.head()"
   ]
  },
  {
   "cell_type": "code",
   "execution_count": null,
   "id": "b71a0c0c-ebad-406a-ba7d-727dd29a9917",
   "metadata": {},
   "outputs": [],
   "source": [
    "adult.describe()"
   ]
  },
  {
   "cell_type": "code",
   "execution_count": null,
   "id": "ab1400e7-07ab-48da-8e33-c6ae92807f0e",
   "metadata": {},
   "outputs": [],
   "source": [
    "adult[adult.describe().columns].hist(figsize=(12,12), layout=(3,3), sharex=False);\n",
    "plt.show()"
   ]
  },
  {
   "cell_type": "code",
   "execution_count": null,
   "id": "90231b20-a874-4efc-99a1-e301a103175e",
   "metadata": {},
   "outputs": [],
   "source": [
    "!pip install klib"
   ]
  },
  {
   "cell_type": "code",
   "execution_count": null,
   "id": "8bb06fc1-3efc-4147-aaf2-74e5e116dd14",
   "metadata": {},
   "outputs": [],
   "source": [
    "import klib\n",
    "for i in adult.describe().columns:\n",
    "    klib.dist_plot(adult[i])"
   ]
  },
  {
   "cell_type": "code",
   "execution_count": null,
   "id": "699babf3-8699-44f6-9fe9-75519e3f9dd7",
   "metadata": {},
   "outputs": [],
   "source": [
    "!pip install dataprep"
   ]
  },
  {
   "cell_type": "code",
   "execution_count": null,
   "id": "25658f38-0555-4c45-9b15-5efeef474e6b",
   "metadata": {},
   "outputs": [],
   "source": [
    "from dataprep.eda import create_report\n",
    "import pandas as pd\n",
    "adult=pd.read_csv('adult_with_headers.csv')\n",
    "create_report(adult)"
   ]
  },
  {
   "cell_type": "code",
   "execution_count": null,
   "id": "8cc77460-50f6-4404-a6f9-5c6d2e1116c7",
   "metadata": {},
   "outputs": [],
   "source": [
    "adult['capital_diff'] = adult['capital_gain'] - adult['capital_loss']\n",
    "adult['work_experience'] = adult['age'] - adult['education_num'] - 5\n",
    "adult.head()"
   ]
  },
  {
   "cell_type": "markdown",
   "id": "f91d9af6-7ad6-4175-af47-8942b41be655",
   "metadata": {},
   "source": [
    "### Why These Features Might Be Beneficial"
   ]
  },
  {
   "cell_type": "markdown",
   "id": "9a4207a5-b539-449e-bcae-5d19fec235a5",
   "metadata": {},
   "source": [
    "Capital Difference:\n",
    "\n",
    "This feature directly represents the financial impact of capital transactions, making it easier for the model to learn whether these transactions have a significant impact on income. It combines two features into one, reducing the complexity the model has to handle.\n",
    "\n",
    "Work Experience:\n",
    "\n",
    "Work experience is a critical factor in determining income. More experienced workers are typically paid more, so this feature provides a direct estimate of experience, which might have a strong correlation with income. This feature also helps to contextualize the age and education_num features by showing how they interact to impact income."
   ]
  },
  {
   "cell_type": "code",
   "execution_count": 15,
   "id": "b8aaa955-f022-4d9f-b10c-d5e45b97eeb7",
   "metadata": {},
   "outputs": [],
   "source": [
    "from sklearn.preprocessing import StandardScaler, MinMaxScaler, LabelEncoder\n",
    "sc = StandardScaler()\n",
    "mm = MinMaxScaler()\n",
    "le = LabelEncoder()"
   ]
  },
  {
   "cell_type": "code",
   "execution_count": 16,
   "id": "7161fbc3-39e0-4f42-ad41-b674d1dd0bb7",
   "metadata": {},
   "outputs": [],
   "source": [
    "adult['age'] = sc.fit_transform(adult[['age']])\n",
    "adult['hours_per_week'] = sc.fit_transform(adult[['hours_per_week']])"
   ]
  },
  {
   "cell_type": "code",
   "execution_count": null,
   "id": "3d3e436c-f8a3-4cf2-8ac1-b3cbe77bbedf",
   "metadata": {},
   "outputs": [],
   "source": [
    "adult['fnlwgt'] = mm.fit_transform(adult[['fnlwgt']])\n",
    "adult['capital_gain'] = mm.fit_transform(adult[['capital_gain']])\n",
    "adult['capital_loss'] = mm.fit_transform(adult[['capital_loss']])\n",
    "adult['education_num'] = mm.fit_transform(adult[['education_num']])\n",
    "adult.head()"
   ]
  },
  {
   "cell_type": "markdown",
   "id": "59c5218b-7611-44b3-a86e-95de25f9bd2f",
   "metadata": {},
   "source": [
    "Standard Scaling: \n",
    "\n",
    "Standard Scaling is generally used when the features are normally distributed or when the model assumes that the data is centered around zero with unit variance.\n",
    "\n",
    "Min-Max Scaling: \n",
    "\n",
    "Min-Max Scaling is suitable when you want to preserve the original relationships and distributions within a fixed range, which is important in algorithms like neural networks or when the data does not follow a normal distribution."
   ]
  },
  {
   "cell_type": "code",
   "execution_count": null,
   "id": "fee3b902-410e-40eb-93b1-c84a11798d4d",
   "metadata": {},
   "outputs": [],
   "source": [
    "list1 = []\n",
    "for i in adult.select_dtypes('object').columns:\n",
    "    if adult[i].nunique() > 5:\n",
    "        adult[i] = le.fit_transform(adult[[i]])\n",
    "    else:\n",
    "        list1.append(i)\n",
    "\n",
    "adult.head()"
   ]
  },
  {
   "cell_type": "code",
   "execution_count": 19,
   "id": "75c1938e-4647-4360-b95a-fe585ee2093d",
   "metadata": {},
   "outputs": [
    {
     "data": {
      "text/plain": [
       "['race', 'sex', 'income']"
      ]
     },
     "execution_count": 19,
     "metadata": {},
     "output_type": "execute_result"
    }
   ],
   "source": [
    "list1"
   ]
  },
  {
   "cell_type": "code",
   "execution_count": null,
   "id": "3f29267d-9b40-47a0-bab9-04a8f2b742bc",
   "metadata": {},
   "outputs": [],
   "source": [
    "race = pd.get_dummies(adult['race'], drop_first=True)\n",
    "race.head()"
   ]
  },
  {
   "cell_type": "code",
   "execution_count": 21,
   "id": "8f6f7361-7a07-4457-8b5c-2baf5a7cb13e",
   "metadata": {},
   "outputs": [
    {
     "data": {
      "text/html": [
       "<div>\n",
       "<style scoped>\n",
       "    .dataframe tbody tr th:only-of-type {\n",
       "        vertical-align: middle;\n",
       "    }\n",
       "\n",
       "    .dataframe tbody tr th {\n",
       "        vertical-align: top;\n",
       "    }\n",
       "\n",
       "    .dataframe thead th {\n",
       "        text-align: right;\n",
       "    }\n",
       "</style>\n",
       "<table border=\"1\" class=\"dataframe\">\n",
       "  <thead>\n",
       "    <tr style=\"text-align: right;\">\n",
       "      <th></th>\n",
       "      <th>Male</th>\n",
       "    </tr>\n",
       "  </thead>\n",
       "  <tbody>\n",
       "    <tr>\n",
       "      <th>0</th>\n",
       "      <td>1</td>\n",
       "    </tr>\n",
       "    <tr>\n",
       "      <th>1</th>\n",
       "      <td>1</td>\n",
       "    </tr>\n",
       "    <tr>\n",
       "      <th>2</th>\n",
       "      <td>1</td>\n",
       "    </tr>\n",
       "    <tr>\n",
       "      <th>3</th>\n",
       "      <td>1</td>\n",
       "    </tr>\n",
       "    <tr>\n",
       "      <th>4</th>\n",
       "      <td>0</td>\n",
       "    </tr>\n",
       "  </tbody>\n",
       "</table>\n",
       "</div>"
      ],
      "text/plain": [
       "    Male\n",
       "0      1\n",
       "1      1\n",
       "2      1\n",
       "3      1\n",
       "4      0"
      ]
     },
     "execution_count": 21,
     "metadata": {},
     "output_type": "execute_result"
    }
   ],
   "source": [
    "sex = pd.get_dummies(adult['sex'], drop_first=True)\n",
    "sex.head()"
   ]
  },
  {
   "cell_type": "code",
   "execution_count": 22,
   "id": "5d78bc45-500a-4afe-aac0-1afcbcef8e00",
   "metadata": {},
   "outputs": [
    {
     "data": {
      "text/html": [
       "<div>\n",
       "<style scoped>\n",
       "    .dataframe tbody tr th:only-of-type {\n",
       "        vertical-align: middle;\n",
       "    }\n",
       "\n",
       "    .dataframe tbody tr th {\n",
       "        vertical-align: top;\n",
       "    }\n",
       "\n",
       "    .dataframe thead th {\n",
       "        text-align: right;\n",
       "    }\n",
       "</style>\n",
       "<table border=\"1\" class=\"dataframe\">\n",
       "  <thead>\n",
       "    <tr style=\"text-align: right;\">\n",
       "      <th></th>\n",
       "      <th>&gt;50K</th>\n",
       "    </tr>\n",
       "  </thead>\n",
       "  <tbody>\n",
       "    <tr>\n",
       "      <th>0</th>\n",
       "      <td>0</td>\n",
       "    </tr>\n",
       "    <tr>\n",
       "      <th>1</th>\n",
       "      <td>0</td>\n",
       "    </tr>\n",
       "    <tr>\n",
       "      <th>2</th>\n",
       "      <td>0</td>\n",
       "    </tr>\n",
       "    <tr>\n",
       "      <th>3</th>\n",
       "      <td>0</td>\n",
       "    </tr>\n",
       "    <tr>\n",
       "      <th>4</th>\n",
       "      <td>0</td>\n",
       "    </tr>\n",
       "  </tbody>\n",
       "</table>\n",
       "</div>"
      ],
      "text/plain": [
       "    >50K\n",
       "0      0\n",
       "1      0\n",
       "2      0\n",
       "3      0\n",
       "4      0"
      ]
     },
     "execution_count": 22,
     "metadata": {},
     "output_type": "execute_result"
    }
   ],
   "source": [
    "income = pd.get_dummies(adult['income'], drop_first=True)\n",
    "income.head()"
   ]
  },
  {
   "cell_type": "code",
   "execution_count": null,
   "id": "f767feb1-b641-48bd-945c-35a8ae9a6d6c",
   "metadata": {},
   "outputs": [],
   "source": [
    "adult = pd.concat([adult, race, sex, income], axis=1)\n",
    "adult.head()"
   ]
  },
  {
   "cell_type": "code",
   "execution_count": null,
   "id": "ac089e60-c591-4930-adbf-2d88b945d491",
   "metadata": {},
   "outputs": [],
   "source": [
    "adult = adult.drop(['race', 'sex', 'income'], axis=1)\n",
    "adult.head()"
   ]
  },
  {
   "cell_type": "markdown",
   "id": "98c279e6-05a4-4236-94d3-6d81eb917d73",
   "metadata": {},
   "source": [
    "#### Pros of One-Hot Encoding:"
   ]
  },
  {
   "cell_type": "markdown",
   "id": "ca7d299c-41c0-47f2-9072-50f6325de921",
   "metadata": {},
   "source": [
    "Easily interpretable results\n",
    "\n",
    "Efficient for sparse data\n",
    "\n",
    "Handles non-numeric categorical variables neatly"
   ]
  },
  {
   "cell_type": "markdown",
   "id": "937f80dc-16e0-433e-9981-ed61b9cce1f7",
   "metadata": {},
   "source": [
    "#### Cons of One-Hot Encoding:"
   ]
  },
  {
   "cell_type": "markdown",
   "id": "cbf15405-e7a3-45f6-9c77-1ca119281766",
   "metadata": {},
   "source": [
    "High dimensionality and memory consumption\n",
    "\n",
    "May lead to the curse of dimensionality\n",
    "\n",
    "Computationally expensive"
   ]
  },
  {
   "cell_type": "markdown",
   "id": "f05fa4d9-7e7b-454c-9510-bbb2cdf80009",
   "metadata": {},
   "source": [
    "#### Pros of Label Encoding:"
   ]
  },
  {
   "cell_type": "markdown",
   "id": "2186d702-162b-451d-bb60-270914a759e0",
   "metadata": {},
   "source": [
    "Easily handle large datasets\n",
    "\n",
    "Less memory consumption\n",
    "\n",
    "Quick computation"
   ]
  },
  {
   "cell_type": "markdown",
   "id": "17e0db8c-1657-4c5f-90f8-2a4a9d11a792",
   "metadata": {},
   "source": [
    "#### Cons of Label Encoding:"
   ]
  },
  {
   "cell_type": "markdown",
   "id": "2559bf6c-1f87-41f9-a7ff-45b4c39e738e",
   "metadata": {},
   "source": [
    "May lead to confusion if similar categories are close together\n",
    "\n",
    "Can be sensitive to the order of categories\n",
    "\n",
    "Not suitable for unordered categorical data\n"
   ]
  },
  {
   "cell_type": "code",
   "execution_count": null,
   "id": "067fb29c-a303-40dc-b745-b6f8bbd1bf6c",
   "metadata": {},
   "outputs": [],
   "source": [
    "import numpy as np\n",
    "adult['capital_gain'] = np.log(adult['capital_gain'])\n",
    "adult.head()"
   ]
  },
  {
   "cell_type": "code",
   "execution_count": 26,
   "id": "35d3d252-96be-46cd-b4e3-705a9894e27d",
   "metadata": {},
   "outputs": [
    {
     "name": "stdout",
     "output_type": "stream",
     "text": [
      "Large dataset detected, using 10000 random samples for the plots. Summary statistics are still based on the entire dataset.\n"
     ]
    },
    {
     "data": {
      "text/plain": [
       "<Axes: xlabel='capital_gain', ylabel='Density'>"
      ]
     },
     "execution_count": 26,
     "metadata": {},
     "output_type": "execute_result"
    },
    {
     "data": {
      "image/png": "[encoded data removed]",
      "text/plain": [
       "<Figure size 1500x300 with 1 Axes>"
      ]
     },
     "metadata": {},
     "output_type": "display_data"
    }
   ],
   "source": [
    "import klib\n",
    "import pandas as pd\n",
    "klib.dist_plot(adult['capital_gain'])"
   ]
  },
  {
   "cell_type": "code",
   "execution_count": null,
   "id": "8c44daf0-1596-4d14-a5ac-827118fb24e1",
   "metadata": {},
   "outputs": [],
   "source": [
    "adult['capital_gain'] = adult['capital_gain'].replace(-np.inf, np.nan)\n",
    "min_value = adult['capital_gain'].min()\n",
    "adult['capital_gain'] = adult['capital_gain'].fillna(min_value)\n",
    "adult.head()"
   ]
  },
  {
   "cell_type": "code",
   "execution_count": null,
   "id": "d4add2b6-ef62-4112-9b25-57038300b434",
   "metadata": {},
   "outputs": [],
   "source": [
    "klib.dist_plot(adult['capital_gain'])"
   ]
  },
  {
   "cell_type": "markdown",
   "id": "6fe70a2d-7611-4928-99e1-a28049cabb39",
   "metadata": {},
   "source": [
    "# Why Log Transformation for \"Capital Gain\"?"
   ]
  },
  {
   "cell_type": "markdown",
   "id": "a912967d-60d8-4d8b-bc92-0a7d89bbf417",
   "metadata": {},
   "source": [
    "The \"capital_gain\" feature, being highly skewed, likely has many small values and a few very large values. Applying a log transformation can help reduce this skew, making the distribution more normal-like (Gaussian), which many models prefer."
   ]
  },
  {
   "cell_type": "code",
   "execution_count": 29,
   "id": "91e54629-91a9-4327-95e7-b17de8a1f3f0",
   "metadata": {},
   "outputs": [
    {
     "data": {
      "text/plain": [
       "array([ 1,  1,  1, ...,  1,  1, -1])"
      ]
     },
     "execution_count": 29,
     "metadata": {},
     "output_type": "execute_result"
    }
   ],
   "source": [
    "from sklearn.ensemble import IsolationForest\n",
    "iso = IsolationForest(contamination=0.1)\n",
    "yhat = iso.fit_predict(adult)\n",
    "yhat"
   ]
  },
  {
   "cell_type": "code",
   "execution_count": null,
   "id": "58bee8aa-f8f8-4f79-b256-a8f18715920e",
   "metadata": {},
   "outputs": [],
   "source": [
    "mask = yhat != -1\n",
    "adult = adult[mask]\n",
    "adult.head()"
   ]
  },
  {
   "cell_type": "markdown",
   "id": "fee6988c-6450-4db3-bc16-246796ca26b9",
   "metadata": {},
   "source": [
    "Outliers can distort model performance, leading to overfitting, increased variance, and poor generalization.\n",
    "\n",
    "Removing outliers can result in a more robust and accurate model, as it allows the model to focus on the general pattern of the data without being misled by extreme values."
   ]
  },
  {
   "cell_type": "code",
   "execution_count": null,
   "id": "5692840c-7546-45b9-b52f-3be6a0cc33ee",
   "metadata": {},
   "outputs": [],
   "source": [
    "!pip install ppscore"
   ]
  },
  {
   "cell_type": "code",
   "execution_count": null,
   "id": "ee496939-d218-47dd-a833-7440d838fc4a",
   "metadata": {},
   "outputs": [],
   "source": [
    "import ppscore as pps\n",
    "pp_score = pps.matrix(adult)\n",
    "pp_score"
   ]
  },
  {
   "cell_type": "code",
   "execution_count": null,
   "id": "d127017e-9341-4b3a-9192-772269f5f594",
   "metadata": {},
   "outputs": [],
   "source": [
    "pp_corr = pd.pivot_table(pp_score, index='x', columns='y', values='ppscore')\n",
    "pp_corr"
   ]
  },
  {
   "cell_type": "code",
   "execution_count": null,
   "id": "5e22d00d-0f52-4ccc-a0ea-ebb93faf2fc5",
   "metadata": {},
   "outputs": [],
   "source": [
    "plt.figure(figsize=(16,12))\n",
    "sns.heatmap(pp_corr,annot=True,fmt=\".2f\")"
   ]
  },
  {
   "cell_type": "code",
   "execution_count": null,
   "id": "c9c9b142-b1b8-4392-8d66-1c2664312428",
   "metadata": {},
   "outputs": [],
   "source": [
    "corr = adult.corr()\n",
    "corr"
   ]
  },
  {
   "cell_type": "code",
   "execution_count": null,
   "id": "611133cf-5743-45dc-b449-2bd8bb2a2ba9",
   "metadata": {},
   "outputs": [],
   "source": [
    "plt.figure(figsize=(16,12))\n",
    "sns.heatmap(corr,annot=True,fmt=\".2f\")"
   ]
  },
  {
   "cell_type": "markdown",
   "id": "ce624449-c8bc-454a-a74a-cf2f128d2c03",
   "metadata": {},
   "source": [
    "### Comparison and Discussion"
   ]
  },
  {
   "cell_type": "markdown",
   "id": "feb21e02-6206-40f5-9c84-0ebea0d54eed",
   "metadata": {},
   "source": [
    "##### Predictive Power vs. Correlation:"
   ]
  },
  {
   "cell_type": "markdown",
   "id": "dbce5776-644b-40ca-87be-fd881d7b7ae7",
   "metadata": {},
   "source": [
    "Both matrices indicate that features like education_num and age are influential in predicting higher income (>50K). However, the PPS matrix provides insights into the predictive power of these features more directly.\n",
    "\n",
    "Features like workclass and native_country have low predictive power in the PPS matrix, and this is consistent with their low or negligible correlations in the correlation matrix."
   ]
  },
  {
   "cell_type": "markdown",
   "id": "76f10ad4-3408-4999-849e-b5fc88928d94",
   "metadata": {},
   "source": [
    "##### Features with High Correlation but Low Predictive Power:"
   ]
  },
  {
   "cell_type": "markdown",
   "id": "f7bdff4b-8355-4410-8285-c81f7c90a648",
   "metadata": {},
   "source": [
    "age and work_experience have a high correlation (0.983121), but work_experience has only a moderate predictive power score (0.173629). This suggests that while age and work_experience are related, the latter's contribution to predicting income above $50K is less significant."
   ]
  },
  {
   "cell_type": "markdown",
   "id": "aebca76c-9d0f-4d2d-b4ee-8766fbdbb574",
   "metadata": {},
   "source": [
    "##### Feature Relationships:"
   ]
  },
  {
   "cell_type": "markdown",
   "id": "28c49a1c-67ce-4ed0-b5db-35a289e1d124",
   "metadata": {},
   "source": [
    "The correlation matrix shows how features like education_num and education are perfectly correlated, which makes sense as higher education generally translates to higher education numbers.\n",
    "\n",
    "Negative correlations such as marital_status and relationship with >50K in the correlation matrix indicate that the impact of these features on income might be complex and dependent on other interacting features."
   ]
  }
 ],
 "metadata": {
  "kernelspec": {
   "display_name": "Python 3 (ipykernel)",
   "language": "python",
   "name": "python3"
  },
  "language_info": {
   "codemirror_mode": {
    "name": "ipython",
    "version": 3
   },
   "file_extension": ".py",
   "mimetype": "text/x-python",
   "name": "python",
   "nbconvert_exporter": "python",
   "pygments_lexer": "ipython3",
   "version": "3.10.18"
  }
 },
 "nbformat": 4,
 "nbformat_minor": 5
}
