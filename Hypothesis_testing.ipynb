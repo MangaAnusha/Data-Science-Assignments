{
 "cells": [
  {
   "cell_type": "markdown",
   "id": "35371c01",
   "metadata": {},
   "source": [
    "### Objective:"
   ]
  },
  {
   "cell_type": "markdown",
   "id": "b4eddab9",
   "metadata": {},
   "source": [
    "To investigate the restaurant owners' claim about the increase in weekly operating costs using hypothesis testing."
   ]
  },
  {
   "cell_type": "markdown",
   "id": "86cb9f7b",
   "metadata": {},
   "source": [
    "### Data Provided:"
   ]
  },
  {
   "cell_type": "markdown",
   "id": "f2eb3e7d",
   "metadata": {},
   "source": [
    "1.The theoretical weekly operating cost model: W = 5X"
   ]
  },
  {
   "cell_type": "markdown",
   "id": "b649ae47",
   "metadata": {},
   "source": [
    "2.Sample of 25 restaurants with a mean weekly cost of Rs. 3,050\n"
   ]
  },
  {
   "cell_type": "markdown",
   "id": "95d7ede4",
   "metadata": {},
   "source": [
    "3.Number of units produced in a week (X) follows a normal distribution with a mean (μ) of 600 units and a standard deviation (σ) of 25 units\n"
   ]
  },
  {
   "cell_type": "markdown",
   "id": "575b3ca6",
   "metadata": {},
   "source": [
    "### State the Hypothesis statement:"
   ]
  },
  {
   "cell_type": "markdown",
   "id": "ccb5909e",
   "metadata": {},
   "source": [
    "Null hypothesis: There is no change in the restaurent weekly operating costs"
   ]
  },
  {
   "cell_type": "markdown",
   "id": "80a24785",
   "metadata": {},
   "source": [
    "Alternative Hypothesis: There is change of increasing in the restaurent weekly operating costs"
   ]
  },
  {
   "cell_type": "markdown",
   "id": "f2714ab2",
   "metadata": {},
   "source": [
    "### Calculate the Test Statistic:"
   ]
  },
  {
   "cell_type": "markdown",
   "id": "4b4e2af3",
   "metadata": {},
   "source": [
    "From the data"
   ]
  },
  {
   "cell_type": "code",
   "execution_count": 1,
   "id": "75d26cde",
   "metadata": {},
   "outputs": [],
   "source": [
    "sample_mean = 3050 #Get the from given file\n",
    "x = 600\n",
    "population_mean = 1000+5*x\n",
    "std_deviation = 5*25\n",
    "sample_size = 25"
   ]
  },
  {
   "cell_type": "code",
   "execution_count": 2,
   "id": "83ae8411",
   "metadata": {},
   "outputs": [
    {
     "data": {
      "text/plain": [
       "-38.0"
      ]
     },
     "execution_count": 2,
     "metadata": {},
     "output_type": "execute_result"
    }
   ],
   "source": [
    "z = round((sample_mean-population_mean)/(std_deviation/(sample_size**0.5)),3) #Calculating the z value\n",
    "z"
   ]
  },
  {
   "cell_type": "markdown",
   "id": "74c15ffe",
   "metadata": {},
   "source": [
    "#### Determine the Critical Value:\n"
   ]
  },
  {
   "cell_type": "code",
   "execution_count": 5,
   "id": "56b41973",
   "metadata": {},
   "outputs": [
    {
     "data": {
      "text/plain": [
       "1.645"
      ]
     },
     "execution_count": 5,
     "metadata": {},
     "output_type": "execute_result"
    }
   ],
   "source": [
    "from scipy.stats import norm\n",
    "critical_value = round(norm.ppf(0.95),3) #Taken critical value\n",
    "critical_value"
   ]
  },
  {
   "cell_type": "markdown",
   "id": "ad9fa899",
   "metadata": {},
   "source": [
    "#### Make a Decision:"
   ]
  },
  {
   "cell_type": "code",
   "execution_count": 6,
   "id": "e43666b6",
   "metadata": {},
   "outputs": [
    {
     "name": "stdout",
     "output_type": "stream",
     "text": [
      "Failed to accept Null Hypothesis\n"
     ]
    }
   ],
   "source": [
    "if z > critical_value: #Check we want to accept null hypothesis or not\n",
    "    print(\"Accept the Null Hypothesis\")\n",
    "else:\n",
    "    print(\"Failed to accept Null Hypothesis\")"
   ]
  },
  {
   "cell_type": "markdown",
   "id": "6b66ccca",
   "metadata": {},
   "source": [
    "#### Conclusion:"
   ]
  },
  {
   "cell_type": "markdown",
   "id": "6b534eed",
   "metadata": {},
   "source": [
    "From the Hypothesis Testing We accept the Null Hypothesis. So,The restaurent owner does not claim the weekly operating costs are higher than the model suggests.\n",
    "\n"
   ]
  }
 ],
 "metadata": {
  "kernelspec": {
   "display_name": "Python 3 (ipykernel)",
   "language": "python",
   "name": "python3"
  },
  "language_info": {
   "codemirror_mode": {
    "name": "ipython",
    "version": 3
   },
   "file_extension": ".py",
   "mimetype": "text/x-python",
   "name": "python",
   "nbconvert_exporter": "python",
   "pygments_lexer": "ipython3",
   "version": "3.10.18"
  }
 },
 "nbformat": 4,
 "nbformat_minor": 5
}
