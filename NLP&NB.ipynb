{
 "cells": [
  {
   "cell_type": "code",
   "execution_count": 1,
   "id": "616b47e5",
   "metadata": {},
   "outputs": [],
   "source": [
    "import pandas as pd #Importing neccesary libraries\n",
    "import numpy as np\n",
    "import matplotlib.pyplot as plt\n",
    "import seaborn as sns\n",
    "import warnings\n",
    "warnings.filterwarnings('ignore')"
   ]
  },
  {
   "cell_type": "code",
   "execution_count": 2,
   "id": "12871d8e",
   "metadata": {},
   "outputs": [
    {
     "data": {
      "text/html": [
       "<div>\n",
       "<style scoped>\n",
       "    .dataframe tbody tr th:only-of-type {\n",
       "        vertical-align: middle;\n",
       "    }\n",
       "\n",
       "    .dataframe tbody tr th {\n",
       "        vertical-align: top;\n",
       "    }\n",
       "\n",
       "    .dataframe thead th {\n",
       "        text-align: right;\n",
       "    }\n",
       "</style>\n",
       "<table border=\"1\" class=\"dataframe\">\n",
       "  <thead>\n",
       "    <tr style=\"text-align: right;\">\n",
       "      <th></th>\n",
       "      <th>Data</th>\n",
       "      <th>Labels</th>\n",
       "    </tr>\n",
       "  </thead>\n",
       "  <tbody>\n",
       "    <tr>\n",
       "      <th>0</th>\n",
       "      <td>Path: cantaloupe.srv.cs.cmu.edu!magnesium.club...</td>\n",
       "      <td>alt.atheism</td>\n",
       "    </tr>\n",
       "    <tr>\n",
       "      <th>1</th>\n",
       "      <td>Newsgroups: alt.atheism\\nPath: cantaloupe.srv....</td>\n",
       "      <td>alt.atheism</td>\n",
       "    </tr>\n",
       "    <tr>\n",
       "      <th>2</th>\n",
       "      <td>Path: cantaloupe.srv.cs.cmu.edu!das-news.harva...</td>\n",
       "      <td>alt.atheism</td>\n",
       "    </tr>\n",
       "    <tr>\n",
       "      <th>3</th>\n",
       "      <td>Path: cantaloupe.srv.cs.cmu.edu!magnesium.club...</td>\n",
       "      <td>alt.atheism</td>\n",
       "    </tr>\n",
       "    <tr>\n",
       "      <th>4</th>\n",
       "      <td>Xref: cantaloupe.srv.cs.cmu.edu alt.atheism:53...</td>\n",
       "      <td>alt.atheism</td>\n",
       "    </tr>\n",
       "    <tr>\n",
       "      <th>...</th>\n",
       "      <td>...</td>\n",
       "      <td>...</td>\n",
       "    </tr>\n",
       "    <tr>\n",
       "      <th>1995</th>\n",
       "      <td>Xref: cantaloupe.srv.cs.cmu.edu talk.abortion:...</td>\n",
       "      <td>talk.religion.misc</td>\n",
       "    </tr>\n",
       "    <tr>\n",
       "      <th>1996</th>\n",
       "      <td>Xref: cantaloupe.srv.cs.cmu.edu talk.religion....</td>\n",
       "      <td>talk.religion.misc</td>\n",
       "    </tr>\n",
       "    <tr>\n",
       "      <th>1997</th>\n",
       "      <td>Xref: cantaloupe.srv.cs.cmu.edu talk.origins:4...</td>\n",
       "      <td>talk.religion.misc</td>\n",
       "    </tr>\n",
       "    <tr>\n",
       "      <th>1998</th>\n",
       "      <td>Xref: cantaloupe.srv.cs.cmu.edu talk.religion....</td>\n",
       "      <td>talk.religion.misc</td>\n",
       "    </tr>\n",
       "    <tr>\n",
       "      <th>1999</th>\n",
       "      <td>Xref: cantaloupe.srv.cs.cmu.edu sci.skeptic:43...</td>\n",
       "      <td>talk.religion.misc</td>\n",
       "    </tr>\n",
       "  </tbody>\n",
       "</table>\n",
       "<p>2000 rows × 2 columns</p>\n",
       "</div>"
      ],
      "text/plain": [
       "                                                   Data              Labels\n",
       "0     Path: cantaloupe.srv.cs.cmu.edu!magnesium.club...         alt.atheism\n",
       "1     Newsgroups: alt.atheism\\nPath: cantaloupe.srv....         alt.atheism\n",
       "2     Path: cantaloupe.srv.cs.cmu.edu!das-news.harva...         alt.atheism\n",
       "3     Path: cantaloupe.srv.cs.cmu.edu!magnesium.club...         alt.atheism\n",
       "4     Xref: cantaloupe.srv.cs.cmu.edu alt.atheism:53...         alt.atheism\n",
       "...                                                 ...                 ...\n",
       "1995  Xref: cantaloupe.srv.cs.cmu.edu talk.abortion:...  talk.religion.misc\n",
       "1996  Xref: cantaloupe.srv.cs.cmu.edu talk.religion....  talk.religion.misc\n",
       "1997  Xref: cantaloupe.srv.cs.cmu.edu talk.origins:4...  talk.religion.misc\n",
       "1998  Xref: cantaloupe.srv.cs.cmu.edu talk.religion....  talk.religion.misc\n",
       "1999  Xref: cantaloupe.srv.cs.cmu.edu sci.skeptic:43...  talk.religion.misc\n",
       "\n",
       "[2000 rows x 2 columns]"
      ]
     },
     "execution_count": 2,
     "metadata": {},
     "output_type": "execute_result"
    }
   ],
   "source": [
    "blog = pd.read_csv('blogs.csv') #Importing Dataset\n",
    "blog"
   ]
  },
  {
   "cell_type": "code",
   "execution_count": 3,
   "id": "92d77f87",
   "metadata": {},
   "outputs": [
    {
     "data": {
      "text/plain": [
       "alt.atheism                 100\n",
       "comp.graphics               100\n",
       "talk.politics.misc          100\n",
       "talk.politics.mideast       100\n",
       "talk.politics.guns          100\n",
       "soc.religion.christian      100\n",
       "sci.space                   100\n",
       "sci.med                     100\n",
       "sci.electronics             100\n",
       "sci.crypt                   100\n",
       "rec.sport.hockey            100\n",
       "rec.sport.baseball          100\n",
       "rec.motorcycles             100\n",
       "rec.autos                   100\n",
       "misc.forsale                100\n",
       "comp.windows.x              100\n",
       "comp.sys.mac.hardware       100\n",
       "comp.sys.ibm.pc.hardware    100\n",
       "comp.os.ms-windows.misc     100\n",
       "talk.religion.misc          100\n",
       "Name: Labels, dtype: int64"
      ]
     },
     "execution_count": 3,
     "metadata": {},
     "output_type": "execute_result"
    }
   ],
   "source": [
    "blog['Labels'].value_counts() #Finding the no of categories"
   ]
  },
  {
   "cell_type": "code",
   "execution_count": 4,
   "id": "07cf6fe0",
   "metadata": {},
   "outputs": [
    {
     "name": "stdout",
     "output_type": "stream",
     "text": [
      "{'talk.politics.misc', 'comp.sys.mac.hardware', 'comp.graphics', 'comp.windows.x', 'rec.sport.hockey', 'sci.med', 'rec.sport.baseball', 'talk.politics.guns', 'comp.os.ms-windows.misc', 'talk.religion.misc', 'soc.religion.christian', 'comp.sys.ibm.pc.hardware', 'sci.space', 'rec.motorcycles', 'talk.politics.mideast', 'alt.atheism', 'misc.forsale', 'sci.electronics', 'rec.autos', 'sci.crypt'}\n"
     ]
    }
   ],
   "source": [
    "print(set(blog['Labels'])) #Finding the unique categories"
   ]
  },
  {
   "cell_type": "code",
   "execution_count": 5,
   "id": "2016bea4",
   "metadata": {},
   "outputs": [
    {
     "data": {
      "image/png": "[encoded data removed]",
      "text/plain": [
       "<Figure size 1000x600 with 1 Axes>"
      ]
     },
     "metadata": {},
     "output_type": "display_data"
    }
   ],
   "source": [
    "plt.figure(figsize=(10, 6)) #Ploting no of categories to get information visually\n",
    "sns.countplot(y=blog['Labels'], order=blog['Labels'].value_counts().index)\n",
    "plt.title('Distribution of Blog Post Categories')\n",
    "plt.xlabel('Count')\n",
    "plt.ylabel('Category')\n",
    "plt.show()"
   ]
  },
  {
   "cell_type": "code",
   "execution_count": 6,
   "id": "7a687140",
   "metadata": {},
   "outputs": [
    {
     "data": {
      "text/plain": [
       "20"
      ]
     },
     "execution_count": 6,
     "metadata": {},
     "output_type": "execute_result"
    }
   ],
   "source": [
    "len(blog['Labels'].value_counts()) #Count the no of unique labels\n",
    "     "
   ]
  },
  {
   "cell_type": "code",
   "execution_count": 7,
   "id": "4fe57031",
   "metadata": {},
   "outputs": [
    {
     "name": "stdout",
     "output_type": "stream",
     "text": [
      "Requirement already satisfied: wordcloud in c:\\users\\anusha\\.conda\\envs\\myenv\\lib\\site-packages (1.9.4)\n",
      "Requirement already satisfied: numpy>=1.6.1 in c:\\users\\anusha\\.conda\\envs\\myenv\\lib\\site-packages (from wordcloud) (1.26.4)\n",
      "Requirement already satisfied: pillow in c:\\users\\anusha\\.conda\\envs\\myenv\\lib\\site-packages (from wordcloud) (11.2.1)\n",
      "Requirement already satisfied: matplotlib in c:\\users\\anusha\\.conda\\envs\\myenv\\lib\\site-packages (from wordcloud) (3.10.3)\n",
      "Requirement already satisfied: contourpy>=1.0.1 in c:\\users\\anusha\\.conda\\envs\\myenv\\lib\\site-packages (from matplotlib->wordcloud) (1.3.2)\n",
      "Requirement already satisfied: cycler>=0.10 in c:\\users\\anusha\\.conda\\envs\\myenv\\lib\\site-packages (from matplotlib->wordcloud) (0.12.1)\n",
      "Requirement already satisfied: fonttools>=4.22.0 in c:\\users\\anusha\\.conda\\envs\\myenv\\lib\\site-packages (from matplotlib->wordcloud) (4.58.4)\n",
      "Requirement already satisfied: kiwisolver>=1.3.1 in c:\\users\\anusha\\.conda\\envs\\myenv\\lib\\site-packages (from matplotlib->wordcloud) (1.4.8)\n",
      "Requirement already satisfied: packaging>=20.0 in c:\\users\\anusha\\.conda\\envs\\myenv\\lib\\site-packages (from matplotlib->wordcloud) (25.0)\n",
      "Requirement already satisfied: pyparsing>=2.3.1 in c:\\users\\anusha\\.conda\\envs\\myenv\\lib\\site-packages (from matplotlib->wordcloud) (3.2.3)\n",
      "Requirement already satisfied: python-dateutil>=2.7 in c:\\users\\anusha\\.conda\\envs\\myenv\\lib\\site-packages (from matplotlib->wordcloud) (2.9.0.post0)\n",
      "Requirement already satisfied: six>=1.5 in c:\\users\\anusha\\.conda\\envs\\myenv\\lib\\site-packages (from python-dateutil>=2.7->matplotlib->wordcloud) (1.17.0)\n"
     ]
    }
   ],
   "source": [
    "!pip install wordcloud"
   ]
  },
  {
   "cell_type": "code",
   "execution_count": 8,
   "id": "d66e3d42",
   "metadata": {},
   "outputs": [
    {
     "data": {
      "image/png": "[encoded data removed]",
      "text/plain": [
       "<Figure size 1000x600 with 1 Axes>"
      ]
     },
     "metadata": {},
     "output_type": "display_data"
    }
   ],
   "source": [
    "from wordcloud import WordCloud #Importing wordcloud\n",
    "all_text = ' '.join(blog['Data']) # Combine all the blog texts into one string\n",
    "wordcloud = WordCloud(width=800, height=400, background_color='white').generate(all_text) # Generate the word cloud\n",
    "plt.figure(figsize=(10, 6)) # Display the word cloud\n",
    "plt.imshow(wordcloud, interpolation='bilinear')\n",
    "plt.axis('off')\n",
    "plt.title('Most Common Words in Blog Texts')\n",
    "plt.show()"
   ]
  },
  {
   "cell_type": "code",
   "execution_count": 9,
   "id": "c8fa12ff",
   "metadata": {},
   "outputs": [
    {
     "data": {
      "text/plain": [
       "Data      0\n",
       "Labels    0\n",
       "dtype: int64"
      ]
     },
     "execution_count": 9,
     "metadata": {},
     "output_type": "execute_result"
    }
   ],
   "source": [
    "blog.isna().sum() #Finding the null values in the data"
   ]
  },
  {
   "cell_type": "code",
   "execution_count": 10,
   "id": "e7f35aa4",
   "metadata": {},
   "outputs": [
    {
     "data": {
      "text/plain": [
       "0"
      ]
     },
     "execution_count": 10,
     "metadata": {},
     "output_type": "execute_result"
    }
   ],
   "source": [
    "blog.duplicated().sum() #Finding the duplicated rows in the data"
   ]
  },
  {
   "cell_type": "markdown",
   "id": "eada54db",
   "metadata": {},
   "source": [
    "## Key Insights"
   ]
  },
  {
   "cell_type": "markdown",
   "id": "420b95e2",
   "metadata": {},
   "source": [
    " 1.The dataset blog.csv contains 2 columns. One Data and second is Labels.\n",
    "\n",
    " 2.Data column contains blog posts and Labels columns contains category of    blogs.\n",
    "\n",
    " 3.In the dataset contains 2000 rows and 20 unique categories.\n",
    "\n",
    " 4.All blogs or rows are unique.\n",
    "\n",
    " 5.Each category contains 100 differnt blogs.\n",
    "\n",
    " 6.There is no duplicated or null rows.\n",
    "\n",
    " 7.There is no numerical column in the dataset."
   ]
  },
  {
   "cell_type": "markdown",
   "id": "b988e200",
   "metadata": {},
   "source": [
    "The word cloud reveals key insights:"
   ]
  },
  {
   "cell_type": "markdown",
   "id": "38d3947e",
   "metadata": {},
   "source": [
    "1.Educational Focus: Terms like cmu and edu are prominent, indicating a focus on academic topics or institutions.\n",
    "\n",
    "2.Technical Terms: Words like cs and srv suggest discussions related to computer science and servers.\n",
    "\n",
    "3.Communication: Frequent mentions of Message-ID, Path, and Posting imply discussions around email headers and networking.\n",
    "\n",
    "4.Specific References: Terms like cantaloupe, reston, and howland may refer to key topics, individuals, or projects.\n",
    "\n",
    "5.Date/Time: Words like Apr and GMT suggest time-sensitive content or logs."
   ]
  },
  {
   "cell_type": "markdown",
   "id": "c3b424a5",
   "metadata": {},
   "source": [
    "## Explanation of Each Label:\n"
   ]
  },
  {
   "cell_type": "markdown",
   "id": "d557fa09",
   "metadata": {},
   "source": [
    "1.soc.religion.christian:"
   ]
  },
  {
   "cell_type": "markdown",
   "id": "e327ed91",
   "metadata": {},
   "source": [
    "This category likely contains posts related to discussions on Christianity, religious beliefs, practices, theology, and related topics."
   ]
  },
  {
   "cell_type": "markdown",
   "id": "b8bbb753",
   "metadata": {},
   "source": [
    "2.talk.politics.guns:"
   ]
  },
  {
   "cell_type": "markdown",
   "id": "eba331aa",
   "metadata": {},
   "source": [
    "Posts in this category would focus on discussions around guns, gun control, legislation, rights, and related political debates."
   ]
  },
  {
   "cell_type": "markdown",
   "id": "7b4a30c2",
   "metadata": {},
   "source": [
    "3.alt.atheism:"
   ]
  },
  {
   "cell_type": "markdown",
   "id": "3fa77caf",
   "metadata": {},
   "source": [
    "This label represents posts discussing atheism, secularism, and related topics, often involving debates about religion from a non-religious perspective."
   ]
  },
  {
   "cell_type": "markdown",
   "id": "f2d22be7",
   "metadata": {},
   "source": [
    "4.rec.autos:"
   ]
  },
  {
   "cell_type": "markdown",
   "id": "36f2fa0a",
   "metadata": {},
   "source": [
    "This category is for posts about automobiles, including car reviews, maintenance tips, automotive technology, and related hobbies."
   ]
  },
  {
   "cell_type": "markdown",
   "id": "d9543ad7",
   "metadata": {},
   "source": [
    "5.comp.graphics:"
   ]
  },
  {
   "cell_type": "markdown",
   "id": "a28e89c6",
   "metadata": {},
   "source": [
    "Posts under this label would involve discussions about computer graphics, including software, techniques, hardware, and graphic design."
   ]
  },
  {
   "cell_type": "markdown",
   "id": "7f0fa74e",
   "metadata": {},
   "source": [
    "6.comp.sys.ibm.pc.hardware:"
   ]
  },
  {
   "cell_type": "markdown",
   "id": "67186118",
   "metadata": {},
   "source": [
    "This category includes posts related to IBM PC hardware, focusing on issues, upgrades, and discussions about IBM-compatible personal computers."
   ]
  },
  {
   "cell_type": "markdown",
   "id": "fb741ca5",
   "metadata": {},
   "source": [
    "7.talk.politics.misc:"
   ]
  },
  {
   "cell_type": "markdown",
   "id": "585bea7f",
   "metadata": {},
   "source": [
    "This label represents posts discussing various political topics that don't fall under a specific sub-category. It's a general political discussion category."
   ]
  },
  {
   "cell_type": "markdown",
   "id": "8e929e1e",
   "metadata": {},
   "source": [
    "8.rec.motorcycles:"
   ]
  },
  {
   "cell_type": "markdown",
   "id": "fd4b7286",
   "metadata": {},
   "source": [
    "Posts under this label discuss motorcycles, including riding tips, bike maintenance, gear, and the motorcycling community."
   ]
  },
  {
   "cell_type": "markdown",
   "id": "5869e3c7",
   "metadata": {},
   "source": [
    "9.sci.med:"
   ]
  },
  {
   "cell_type": "markdown",
   "id": "4e6a622a",
   "metadata": {},
   "source": [
    "This category includes discussions related to medical science, health issues, medical research, and related topics."
   ]
  },
  {
   "cell_type": "markdown",
   "id": "b7486c00",
   "metadata": {},
   "source": [
    "10.talk.politics.mideast:"
   ]
  },
  {
   "cell_type": "markdown",
   "id": "b26b5037",
   "metadata": {},
   "source": [
    "This label focuses on discussions about Middle Eastern politics, including conflicts, diplomacy, history, and current events in the region."
   ]
  },
  {
   "cell_type": "markdown",
   "id": "a2df790b",
   "metadata": {},
   "source": [
    "11.comp.windows.x:"
   ]
  },
  {
   "cell_type": "markdown",
   "id": "3db641ab",
   "metadata": {},
   "source": [
    "This category covers topics related to the X Window System, which is a windowing system for bitmap displays in UNIX-like operating systems."
   ]
  },
  {
   "cell_type": "markdown",
   "id": "10d4d243",
   "metadata": {},
   "source": [
    "12.rec.sport.baseball:"
   ]
  },
  {
   "cell_type": "markdown",
   "id": "2b9a82b2",
   "metadata": {},
   "source": [
    "Posts in this category involve discussions about baseball, including games, players, teams, statistics, and baseball culture."
   ]
  },
  {
   "cell_type": "markdown",
   "id": "97e8adf9",
   "metadata": {},
   "source": [
    "13.rec.sport.hockey:"
   ]
  },
  {
   "cell_type": "markdown",
   "id": "24db9703",
   "metadata": {},
   "source": [
    "This label represents posts about hockey, covering professional leagues, players, games, and related discussions."
   ]
  },
  {
   "cell_type": "markdown",
   "id": "0efb6ca6",
   "metadata": {},
   "source": [
    "14.sci.crypt:"
   ]
  },
  {
   "cell_type": "markdown",
   "id": "d797c34e",
   "metadata": {},
   "source": [
    "Posts under this label discuss cryptography, including encryption algorithms, cryptographic protocols, security practices, and related topics."
   ]
  },
  {
   "cell_type": "markdown",
   "id": "5853f92e",
   "metadata": {},
   "source": [
    "15.sci.space:"
   ]
  },
  {
   "cell_type": "markdown",
   "id": "7e5ae893",
   "metadata": {},
   "source": [
    "This category includes discussions about space, including astronomy, space exploration, astrophysics, and related scientific fields."
   ]
  },
  {
   "cell_type": "markdown",
   "id": "55b2000d",
   "metadata": {},
   "source": [
    "16.comp.sys.mac.hardware:"
   ]
  },
  {
   "cell_type": "markdown",
   "id": "876989d0",
   "metadata": {},
   "source": [
    "This label is for discussions about Apple Macintosh hardware, including troubleshooting, upgrades, and hardware-specific issues."
   ]
  },
  {
   "cell_type": "markdown",
   "id": "5fc8a941",
   "metadata": {},
   "source": [
    "17.misc.forsale:"
   ]
  },
  {
   "cell_type": "markdown",
   "id": "9a3cba4c",
   "metadata": {},
   "source": [
    "Posts in this category are related to buying and selling items, with discussions often involving classifieds or second-hand goods."
   ]
  },
  {
   "cell_type": "markdown",
   "id": "afdbc2fd",
   "metadata": {},
   "source": [
    "18.comp.os.ms-windows.misc:"
   ]
  },
  {
   "cell_type": "markdown",
   "id": "7814fe6f",
   "metadata": {},
   "source": [
    "This category covers miscellaneous topics related to Microsoft Windows operating systems, including tips, troubleshooting, and software discussions."
   ]
  },
  {
   "cell_type": "markdown",
   "id": "7304f445",
   "metadata": {},
   "source": [
    "19.talk.religion.misc:"
   ]
  },
  {
   "cell_type": "markdown",
   "id": "37ad690e",
   "metadata": {},
   "source": [
    "This label represents discussions on miscellaneous religious topics that don't fit into more specific categories, covering a variety of religious and spiritual beliefs."
   ]
  },
  {
   "cell_type": "markdown",
   "id": "ec1a349c",
   "metadata": {},
   "source": [
    "20.sci.electronics:"
   ]
  },
  {
   "cell_type": "markdown",
   "id": "046579f4",
   "metadata": {},
   "source": [
    "Posts in this category focus on electronics, including circuit design, electronic components, hobbyist projects, and related discussions in the field of electronics."
   ]
  },
  {
   "cell_type": "code",
   "execution_count": 11,
   "id": "deac93b8",
   "metadata": {},
   "outputs": [
    {
     "name": "stdout",
     "output_type": "stream",
     "text": [
      "Path: cantaloupe.srv.cs.cmu.edu!magnesium.club.cc.cmu.edu!news.sei.cmu.edu!cis.ohio-state.edu!zaphod.mps.ohio-state.edu!howland.reston.ans.net!agate!doc.ic.ac.uk!uknet!mcsun!Germany.EU.net!thoth.mchp.sni.de!horus.ap.mchp.sni.de!D012S658!frank\n",
      "From: frank@D012S658.uucp (Frank O'Dwyer)\n",
      "Newsgroups: alt.atheism\n",
      "Subject: Re: islamic genocide\n",
      "Date: 23 Apr 1993 23:51:47 GMT\n",
      "Organization: Siemens-Nixdorf AG\n",
      "Lines: 110\n",
      "Distribution: world\n",
      "Message-ID: <1r9vej$5k5@horus.ap.mchp.sni.de>\n",
      "References: <1r4o8a$6qe@fido.asd.sgi.com> <1r5ubl$bd6@horus.ap.mchp.sni.de> <1r76ek$7uo@fido.asd.sgi.com>\n",
      "NNTP-Posting-Host: d012s658.ap.mchp.sni.de\n",
      "\n",
      "In article <1r76ek$7uo@fido.asd.sgi.com> livesey@solntze.wpd.sgi.com (Jon Livesey) writes:\n",
      "#In article <1r5ubl$bd6@horus.ap.mchp.sni.de>, frank@D012S658.uucp (Frank O'Dwyer) writes:\n",
      "#|> In article <1r4o8a$6qe@fido.asd.sgi.com> livesey@solntze.wpd.sgi.com (Jon Livesey) writes:\n",
      "#|> #\n",
      "#|> #Noting that a particular society, in this case the mainland UK,\n",
      "#|> #has few religously motivated murders, and few murders of *any*\n",
      "#|> #kind, says very little about whether inter-religion murders elsewhere\n",
      "#|> #are religiously motivated.\n",
      "#|> \n",
      "#|> No, but it allows one to conclude that there is nothing inherent\n",
      "#|> in all religion (or for that matter, in catholicism and protestantism)\n",
      "#|> that motivates one to kill.\n",
      "#\n",
      "#\"Motivates\" or \"allows?\"    The Christian Bible says that one may kill\n",
      "#under certain circumstances.   In fact, it instructs one to kill under\n",
      "#certain circumstances.     \n",
      "\n",
      "I'd say the majority of people have a moral system that instructs them\n",
      "to kill under certain circumstances.  I do get your distinction between\n",
      "motivate and allow, and I do agree that if a flavour of theism 'allows'\n",
      "atoricities, then that's an indictment of that theism.  But it rather\n",
      "depends on what the 'certain circumstances' are.  When you talk about\n",
      "Christianity, or Islam, then at least your claims can be understood.\n",
      "It's when people go to a general statement about theism that it falls\n",
      "apart.  One could believe in a God which instructs one to be utterly\n",
      "harmless.\n",
      "#\n",
      "#|> For my part, I conclude that something\n",
      "#|> else is required.  I also happen to believe that that something\n",
      "#|> else will work no less well without religion - any easy Them/Us will\n",
      "#|> do.\n",
      "#\n",
      "#And what does religion supply, if not an easy Them/Us?\n",
      "\n",
      "Not necessarily.  \"Love thy neighbour\" does not supply a them/us - it\n",
      "demolishes it.  And my definition of religion is broader than my\n",
      "definition of theism, as I have explained.\n",
      "#\n",
      "#|> #By insisting that even the murder of four labourers, chosen because\n",
      "#|> #they were catholics, and who had nothing to do with the IRA, by \n",
      "#|> #Protestant extremists, is *not* religously motivated, I think what \n",
      "#|> #you are saying is that you simply will not accept *any* murder as \n",
      "#|> #being religiously motivated.\n",
      "#|> \n",
      "#|> No.  What about that guy who cut off someone's head because he believed \n",
      "#|> he was the devil incarnate?  That was religously motivated.\n",
      "#\n",
      "#What about the Protestant extremists who killed four Catholic \n",
      "#labourers?     That *wasn't* religiously motivated?\n",
      "\n",
      "Not in my opinion.  If they were doing it because of some obscure\n",
      "point of theology, then yes.  But since all protestants don't do this\n",
      "(nor do they elect extremists to do it for them), it's just too broad\n",
      "too say \"religion did this\".  I'm saying that the causes are far more\n",
      "complex than that - take away the religious element, and you'd still\n",
      "have the powerful motives of revenge and misguided patriotism.  You\n",
      "know, when most Catholics and Protestants worldwide say 'stop the \n",
      "killing', one might listen to that, especially when you claim not\n",
      "to read minds.\n",
      "#\n",
      "#\n",
      "#|> Also, the murders ensuing from the fatwa on Mr. Rushdie, the Inquisitions,\n",
      "#|> and the many religous wars.\n",
      "#\n",
      "#What's so special about these exceptions?    Isn't this all just a\n",
      "#grab-bag of ad-hoc excuses for not considering some other murders\n",
      "#to be religiously motivated?    What's the general principle behind\n",
      "#all this?\n",
      "\n",
      "The general principle is that it's fairly clear (to me, at least) that\n",
      "religion is the primary motivator (enabler, whatever) of these.  It's\n",
      "not nearly so obvious what's going on when one looks at NI, apart\n",
      "from violence of course.\n",
      "#\n",
      "#|> #It's not an abstract \"argument\".   Northern Irish Protestants say\n",
      "#|> #\"We don't want to be absorbed into am officially Catholic country.\"\n",
      "#|> #\n",
      "#|> #Now what are we supposed to do?   Are we supposed to reply \"No,\n",
      "#|> #that's only what you think you don't want.   Mr O'Dwyer assures us\n",
      "#|> #that no matter what you say you want, you really want something \n",
      "#|> #else?\"\n",
      "#|> \n",
      "#|> You think the Unionists wouldn't mind being absorbed into a non-Catholic \n",
      "#|> country (other than the UK of course)?   It's a terrible thing to lose\n",
      "#|> a mind.   Maybe the word \"country\" is there for more than just kicks.\n",
      "#|> I certainly don't believe that the Unionists are in it for God - I think\n",
      "#|> they wish to maintain their position of privilege.\n",
      "#\n",
      "#I'm still listening to what they say, and you are still telling us \n",
      "#your version of what they think.   You read minds, and I don't.\n",
      "\n",
      "You've speculated on my motives often enough, and you don't take\n",
      "my statements of my own beliefs at face value - therefore your claim \n",
      "not to read minds has no credibility with me, sorry.   I also note that \n",
      "you fail to answer my question.  It just looks to me very much like\n",
      "you have an axe to grind - especially as you are indeed ignoring what \n",
      "most Protestants say - which is @stop the killing\".  The people you\n",
      "refer to are properly described as Unionists, not Protestants.\n",
      "#\n",
      "#As for their position of privilege, what is that if not religion-\n",
      "#based?\n",
      "\n",
      "It is based on politics, bigotry, and heartless extremism.  None of these\n",
      "things are synonymous with religion, though there is certainly some\n",
      "overlap.\n",
      "\n",
      "\n",
      "-- \n",
      "Frank O'Dwyer                                  'I'm not hatching That'\n",
      "odwyer@sse.ie                                  from \"Hens\",  by Evelyn Conlon\n",
      "\n"
     ]
    }
   ],
   "source": [
    "print(blog['Data'].iloc[0]) #First blog"
   ]
  },
  {
   "cell_type": "code",
   "execution_count": 12,
   "id": "39ecc092",
   "metadata": {},
   "outputs": [
    {
     "data": {
      "text/plain": [
       "'path: cantaloupe.srv.cs.cmu.edu!magnesium.club.cc.cmu.edu!news.sei.cmu.edu!cis.ohio-state.edu!zaphod.mps.ohio-state.edu!howland.reston.ans.net!agate!doc.ic.ac.uk!uknet!mcsun!germany.eu.net!thoth.mchp.sni.de!horus.ap.mchp.sni.de!d012s658!frank from: frank@d012s658.uucp (frank o\\'dwyer) newsgroups: alt.atheism subject: re: islamic genocide date: 23 apr 1993 23:51:47 gmt organization: siemens-nixdorf ag lines: 110 distribution: world message-id: <1r9vej$5k5@horus.ap.mchp.sni.de> references: <1r4o8a$6qe@fido.asd.sgi.com> <1r5ubl$bd6@horus.ap.mchp.sni.de> <1r76ek$7uo@fido.asd.sgi.com> nntp-posting-host: d012s658.ap.mchp.sni.de  in article <1r76ek$7uo@fido.asd.sgi.com> livesey@solntze.wpd.sgi.com (jon livesey) writes: #in article <1r5ubl$bd6@horus.ap.mchp.sni.de>, frank@d012s658.uucp (frank o\\'dwyer) writes: #|> in article <1r4o8a$6qe@fido.asd.sgi.com> livesey@solntze.wpd.sgi.com (jon livesey) writes: #|> # #|> #noting that a particular society, in this case the mainland uk, #|> #has few religously motivated murders, and few murders of *any* #|> #kind, says very little about whether inter-religion murders elsewhere #|> #are religiously motivated. #|>  #|> no, but it allows one to conclude that there is nothing inherent #|> in all religion (or for that matter, in catholicism and protestantism) #|> that motivates one to kill. # #\"motivates\" or \"allows?\"    the christian bible says that one may kill #under certain circumstances.   in fact, it instructs one to kill under #certain circumstances.       i\\'d say the majority of people have a moral system that instructs them to kill under certain circumstances.  i do get your distinction between motivate and allow, and i do agree that if a flavour of theism \\'allows\\' atoricities, then that\\'s an indictment of that theism.  but it rather depends on what the \\'certain circumstances\\' are.  when you talk about christianity, or islam, then at least your claims can be understood. it\\'s when people go to a general statement about theism that it falls apart.  one could believe in a god which instructs one to be utterly harmless. # #|> for my part, i conclude that something #|> else is required.  i also happen to believe that that something #|> else will work no less well without religion - any easy them/us will #|> do. # #and what does religion supply, if not an easy them/us?  not necessarily.  \"love thy neighbour\" does not supply a them/us - it demolishes it.  and my definition of religion is broader than my definition of theism, as i have explained. # #|> #by insisting that even the murder of four labourers, chosen because #|> #they were catholics, and who had nothing to do with the ira, by  #|> #protestant extremists, is *not* religously motivated, i think what  #|> #you are saying is that you simply will not accept *any* murder as  #|> #being religiously motivated. #|>  #|> no.  what about that guy who cut off someone\\'s head because he believed  #|> he was the devil incarnate?  that was religously motivated. # #what about the protestant extremists who killed four catholic  #labourers?     that *wasn\\'t* religiously motivated?  not in my opinion.  if they were doing it because of some obscure point of theology, then yes.  but since all protestants don\\'t do this (nor do they elect extremists to do it for them), it\\'s just too broad too say \"religion did this\".  i\\'m saying that the causes are far more complex than that - take away the religious element, and you\\'d still have the powerful motives of revenge and misguided patriotism.  you know, when most catholics and protestants worldwide say \\'stop the  killing\\', one might listen to that, especially when you claim not to read minds. # # #|> also, the murders ensuing from the fatwa on mr. rushdie, the inquisitions, #|> and the many religous wars. # #what\\'s so special about these exceptions?    isn\\'t this all just a #grab-bag of ad-hoc excuses for not considering some other murders #to be religiously motivated?    what\\'s the general principle behind #all this?  the general principle is that it\\'s fairly clear (to me, at least) that religion is the primary motivator (enabler, whatever) of these.  it\\'s not nearly so obvious what\\'s going on when one looks at ni, apart from violence of course. # #|> #it\\'s not an abstract \"argument\".   northern irish protestants say #|> #\"we don\\'t want to be absorbed into am officially catholic country.\" #|> # #|> #now what are we supposed to do?   are we supposed to reply \"no, #|> #that\\'s only what you think you don\\'t want.   mr o\\'dwyer assures us #|> #that no matter what you say you want, you really want something  #|> #else?\" #|>  #|> you think the unionists wouldn\\'t mind being absorbed into a non-catholic  #|> country (other than the uk of course)?   it\\'s a terrible thing to lose #|> a mind.   maybe the word \"country\" is there for more than just kicks. #|> i certainly don\\'t believe that the unionists are in it for god - i think #|> they wish to maintain their position of privilege. # #i\\'m still listening to what they say, and you are still telling us  #your version of what they think.   you read minds, and i don\\'t.  you\\'ve speculated on my motives often enough, and you don\\'t take my statements of my own beliefs at face value - therefore your claim  not to read minds has no credibility with me, sorry.   i also note that  you fail to answer my question.  it just looks to me very much like you have an axe to grind - especially as you are indeed ignoring what  most protestants say - which is @stop the killing\".  the people you refer to are properly described as unionists, not protestants. # #as for their position of privilege, what is that if not religion- #based?  it is based on politics, bigotry, and heartless extremism.  none of these things are synonymous with religion, though there is certainly some overlap.   --  frank o\\'dwyer                                  \\'i\\'m not hatching that\\' odwyer@sse.ie                                  from \"hens\",  by evelyn conlon '"
      ]
     },
     "execution_count": 12,
     "metadata": {},
     "output_type": "execute_result"
    }
   ],
   "source": [
    "for i in range(len(blog['Data'])): #Converting all upper case letters to lower case\n",
    "  word = []\n",
    "  for j in blog['Data'].iloc[i].split('\\n'):\n",
    "    if j.upper():\n",
    "      j = j.lower()\n",
    "      word.append(j)\n",
    "    else:\n",
    "      word.append(j)\n",
    "  blog['Data'].iloc[i] = ' '.join(word)\n",
    "blog['Data'].iloc[0]"
   ]
  },
  {
   "cell_type": "code",
   "execution_count": 13,
   "id": "d299d6cd",
   "metadata": {},
   "outputs": [
    {
     "name": "stdout",
     "output_type": "stream",
     "text": [
      "newsgroups: alt.atheism path: cantaloupe.srv.cs.cmu.edu!crabapple.srv.cs.cmu.edu!bb3.andrew.cmu.edu!news.sei.cmu.edu!cis.ohio-state.edu!zaphod.mps.ohio-state.edu!moe.ksu.ksu.edu!osuunx.ucc.okstate.edu!constellation!darkside!okcforum.osrhe.edu!bil from: bil@okcforum.osrhe.edu (bill conner) subject: re: not the omni! message-id: <c4vznz.jm4@darkside.osrhe.uoknor.edu> sender: news@darkside.osrhe.uoknor.edu nntp-posting-host: okcforum.osrhe.edu organization: okcforum unix users group x-newsreader: tin [version 1.1 pl6] references: <65785@mimsy.umd.edu> date: sat, 3 apr 1993 02:45:35 gmt lines: 18  charley wingate (mangoe@cs.umd.edu) wrote: :  : >> please enlighten me.  how is omnipotence contradictory? :  : >by definition, all that can occur in the universe is governed by the rules : >of nature. thus god cannot break them. anything that god does must be allowed : >in the rules somewhere. therefore, omnipotence cannot exist! it contradicts : >the rules of nature. :  : obviously, an omnipotent god can change the rules.  when you say, \"by definition\", what exactly is being defined; certainly not omnipotence. you seem to be saying that the \"rules of nature\" are pre-existant somehow, that they not only define nature but actually cause it. if that's what you mean i'd like to hear your further thoughts on the question.  bill \n"
     ]
    }
   ],
   "source": [
    "print(blog['Data'].iloc[1]) #Second blog"
   ]
  },
  {
   "cell_type": "code",
   "execution_count": 14,
   "id": "b2e64e8b",
   "metadata": {},
   "outputs": [],
   "source": [
    "import re #Importing regular expressions\n",
    "import nltk #Natural Language Toolkit\n",
    "from nltk.corpus import stopwords #Importing stopwords\n",
    "from nltk.tokenize import word_tokenize #Importing word_tokenize\n",
    "from nltk.stem import PorterStemmer, WordNetLemmatizer #Importing stemmer and lemmatizer"
   ]
  },
  {
   "cell_type": "code",
   "execution_count": 15,
   "id": "a5ebdea8",
   "metadata": {},
   "outputs": [],
   "source": [
    "# Initialize stemmer and lemmatizer\n",
    "stemmer = PorterStemmer()\n",
    "lemmatizer = WordNetLemmatizer()"
   ]
  },
  {
   "cell_type": "code",
   "execution_count": 16,
   "id": "cd9561ab",
   "metadata": {},
   "outputs": [
    {
     "name": "stderr",
     "output_type": "stream",
     "text": [
      "[nltk_data] Downloading package stopwords to\n",
      "[nltk_data]     C:\\Users\\Anusha\\AppData\\Roaming\\nltk_data...\n",
      "[nltk_data]   Package stopwords is already up-to-date!\n",
      "[nltk_data] Downloading package punkt to\n",
      "[nltk_data]     C:\\Users\\Anusha\\AppData\\Roaming\\nltk_data...\n",
      "[nltk_data]   Package punkt is already up-to-date!\n",
      "[nltk_data] Downloading package wordnet to\n",
      "[nltk_data]     C:\\Users\\Anusha\\AppData\\Roaming\\nltk_data...\n",
      "[nltk_data]   Package wordnet is already up-to-date!\n"
     ]
    },
    {
     "data": {
      "text/plain": [
       "True"
      ]
     },
     "execution_count": 16,
     "metadata": {},
     "output_type": "execute_result"
    }
   ],
   "source": [
    "# Download NLTK data (stopwords and punkt)\n",
    "nltk.download('stopwords')\n",
    "nltk.download('punkt')\n",
    "nltk.download('wordnet')"
   ]
  },
  {
   "cell_type": "code",
   "execution_count": null,
   "id": "e811e6c8",
   "metadata": {
    "scrolled": true
   },
   "outputs": [],
   "source": [
    "#Define a function to clean and preprocess the text\n",
    "def preprocess_text(text, use_stemming=True, use_lemmatization=True):\n",
    "    # Remove punctuation\n",
    "    text = re.sub(r'[^\\w\\s]', '', text)\n",
    "    # Remove numbers\n",
    "    text = re.sub(r'\\d+', '', text)\n",
    "    # Tokenize the text\n",
    "    words = word_tokenize(text)\n",
    "    # Remove stopwords\n",
    "    stop_words = set(stopwords.words('english'))\n",
    "    words = [word for word in words if word not in stop_words]\n",
    "    # Apply stemming or lemmatization\n",
    "    if use_stemming:\n",
    "        words = [stemmer.stem(word) for word in words]\n",
    "    if use_lemmatization:\n",
    "        words = [lemmatizer.lemmatize(word) for word in words]\n",
    "    return ' '.join(words)\n",
    "blog['Data'] = blog['Data'].apply(preprocess_text)\n",
    "blog.head()    "
   ]
  },
  {
   "cell_type": "code",
   "execution_count": 23,
   "id": "f67b8fca",
   "metadata": {},
   "outputs": [],
   "source": [
    "from sklearn.feature_extraction.text import TfidfVectorizer #Importing TFIDF Vectorizer"
   ]
  },
  {
   "cell_type": "code",
   "execution_count": 24,
   "id": "5722d7d7",
   "metadata": {},
   "outputs": [
    {
     "data": {
      "text/html": [
       "<style>#sk-container-id-1 {\n",
       "  /* Definition of color scheme common for light and dark mode */\n",
       "  --sklearn-color-text: #000;\n",
       "  --sklearn-color-text-muted: #666;\n",
       "  --sklearn-color-line: gray;\n",
       "  /* Definition of color scheme for unfitted estimators */\n",
       "  --sklearn-color-unfitted-level-0: #fff5e6;\n",
       "  --sklearn-color-unfitted-level-1: #f6e4d2;\n",
       "  --sklearn-color-unfitted-level-2: #ffe0b3;\n",
       "  --sklearn-color-unfitted-level-3: chocolate;\n",
       "  /* Definition of color scheme for fitted estimators */\n",
       "  --sklearn-color-fitted-level-0: #f0f8ff;\n",
       "  --sklearn-color-fitted-level-1: #d4ebff;\n",
       "  --sklearn-color-fitted-level-2: #b3dbfd;\n",
       "  --sklearn-color-fitted-level-3: cornflowerblue;\n",
       "\n",
       "  /* Specific color for light theme */\n",
       "  --sklearn-color-text-on-default-background: var(--sg-text-color, var(--theme-code-foreground, var(--jp-content-font-color1, black)));\n",
       "  --sklearn-color-background: var(--sg-background-color, var(--theme-background, var(--jp-layout-color0, white)));\n",
       "  --sklearn-color-border-box: var(--sg-text-color, var(--theme-code-foreground, var(--jp-content-font-color1, black)));\n",
       "  --sklearn-color-icon: #696969;\n",
       "\n",
       "  @media (prefers-color-scheme: dark) {\n",
       "    /* Redefinition of color scheme for dark theme */\n",
       "    --sklearn-color-text-on-default-background: var(--sg-text-color, var(--theme-code-foreground, var(--jp-content-font-color1, white)));\n",
       "    --sklearn-color-background: var(--sg-background-color, var(--theme-background, var(--jp-layout-color0, #111)));\n",
       "    --sklearn-color-border-box: var(--sg-text-color, var(--theme-code-foreground, var(--jp-content-font-color1, white)));\n",
       "    --sklearn-color-icon: #878787;\n",
       "  }\n",
       "}\n",
       "\n",
       "#sk-container-id-1 {\n",
       "  color: var(--sklearn-color-text);\n",
       "}\n",
       "\n",
       "#sk-container-id-1 pre {\n",
       "  padding: 0;\n",
       "}\n",
       "\n",
       "#sk-container-id-1 input.sk-hidden--visually {\n",
       "  border: 0;\n",
       "  clip: rect(1px 1px 1px 1px);\n",
       "  clip: rect(1px, 1px, 1px, 1px);\n",
       "  height: 1px;\n",
       "  margin: -1px;\n",
       "  overflow: hidden;\n",
       "  padding: 0;\n",
       "  position: absolute;\n",
       "  width: 1px;\n",
       "}\n",
       "\n",
       "#sk-container-id-1 div.sk-dashed-wrapped {\n",
       "  border: 1px dashed var(--sklearn-color-line);\n",
       "  margin: 0 0.4em 0.5em 0.4em;\n",
       "  box-sizing: border-box;\n",
       "  padding-bottom: 0.4em;\n",
       "  background-color: var(--sklearn-color-background);\n",
       "}\n",
       "\n",
       "#sk-container-id-1 div.sk-container {\n",
       "  /* jupyter's `normalize.less` sets `[hidden] { display: none; }`\n",
       "     but bootstrap.min.css set `[hidden] { display: none !important; }`\n",
       "     so we also need the `!important` here to be able to override the\n",
       "     default hidden behavior on the sphinx rendered scikit-learn.org.\n",
       "     See: https://github.com/scikit-learn/scikit-learn/issues/21755 */\n",
       "  display: inline-block !important;\n",
       "  position: relative;\n",
       "}\n",
       "\n",
       "#sk-container-id-1 div.sk-text-repr-fallback {\n",
       "  display: none;\n",
       "}\n",
       "\n",
       "div.sk-parallel-item,\n",
       "div.sk-serial,\n",
       "div.sk-item {\n",
       "  /* draw centered vertical line to link estimators */\n",
       "  background-image: linear-gradient(var(--sklearn-color-text-on-default-background), var(--sklearn-color-text-on-default-background));\n",
       "  background-size: 2px 100%;\n",
       "  background-repeat: no-repeat;\n",
       "  background-position: center center;\n",
       "}\n",
       "\n",
       "/* Parallel-specific style estimator block */\n",
       "\n",
       "#sk-container-id-1 div.sk-parallel-item::after {\n",
       "  content: \"\";\n",
       "  width: 100%;\n",
       "  border-bottom: 2px solid var(--sklearn-color-text-on-default-background);\n",
       "  flex-grow: 1;\n",
       "}\n",
       "\n",
       "#sk-container-id-1 div.sk-parallel {\n",
       "  display: flex;\n",
       "  align-items: stretch;\n",
       "  justify-content: center;\n",
       "  background-color: var(--sklearn-color-background);\n",
       "  position: relative;\n",
       "}\n",
       "\n",
       "#sk-container-id-1 div.sk-parallel-item {\n",
       "  display: flex;\n",
       "  flex-direction: column;\n",
       "}\n",
       "\n",
       "#sk-container-id-1 div.sk-parallel-item:first-child::after {\n",
       "  align-self: flex-end;\n",
       "  width: 50%;\n",
       "}\n",
       "\n",
       "#sk-container-id-1 div.sk-parallel-item:last-child::after {\n",
       "  align-self: flex-start;\n",
       "  width: 50%;\n",
       "}\n",
       "\n",
       "#sk-container-id-1 div.sk-parallel-item:only-child::after {\n",
       "  width: 0;\n",
       "}\n",
       "\n",
       "/* Serial-specific style estimator block */\n",
       "\n",
       "#sk-container-id-1 div.sk-serial {\n",
       "  display: flex;\n",
       "  flex-direction: column;\n",
       "  align-items: center;\n",
       "  background-color: var(--sklearn-color-background);\n",
       "  padding-right: 1em;\n",
       "  padding-left: 1em;\n",
       "}\n",
       "\n",
       "\n",
       "/* Toggleable style: style used for estimator/Pipeline/ColumnTransformer box that is\n",
       "clickable and can be expanded/collapsed.\n",
       "- Pipeline and ColumnTransformer use this feature and define the default style\n",
       "- Estimators will overwrite some part of the style using the `sk-estimator` class\n",
       "*/\n",
       "\n",
       "/* Pipeline and ColumnTransformer style (default) */\n",
       "\n",
       "#sk-container-id-1 div.sk-toggleable {\n",
       "  /* Default theme specific background. It is overwritten whether we have a\n",
       "  specific estimator or a Pipeline/ColumnTransformer */\n",
       "  background-color: var(--sklearn-color-background);\n",
       "}\n",
       "\n",
       "/* Toggleable label */\n",
       "#sk-container-id-1 label.sk-toggleable__label {\n",
       "  cursor: pointer;\n",
       "  display: flex;\n",
       "  width: 100%;\n",
       "  margin-bottom: 0;\n",
       "  padding: 0.5em;\n",
       "  box-sizing: border-box;\n",
       "  text-align: center;\n",
       "  align-items: start;\n",
       "  justify-content: space-between;\n",
       "  gap: 0.5em;\n",
       "}\n",
       "\n",
       "#sk-container-id-1 label.sk-toggleable__label .caption {\n",
       "  font-size: 0.6rem;\n",
       "  font-weight: lighter;\n",
       "  color: var(--sklearn-color-text-muted);\n",
       "}\n",
       "\n",
       "#sk-container-id-1 label.sk-toggleable__label-arrow:before {\n",
       "  /* Arrow on the left of the label */\n",
       "  content: \"▸\";\n",
       "  float: left;\n",
       "  margin-right: 0.25em;\n",
       "  color: var(--sklearn-color-icon);\n",
       "}\n",
       "\n",
       "#sk-container-id-1 label.sk-toggleable__label-arrow:hover:before {\n",
       "  color: var(--sklearn-color-text);\n",
       "}\n",
       "\n",
       "/* Toggleable content - dropdown */\n",
       "\n",
       "#sk-container-id-1 div.sk-toggleable__content {\n",
       "  max-height: 0;\n",
       "  max-width: 0;\n",
       "  overflow: hidden;\n",
       "  text-align: left;\n",
       "  /* unfitted */\n",
       "  background-color: var(--sklearn-color-unfitted-level-0);\n",
       "}\n",
       "\n",
       "#sk-container-id-1 div.sk-toggleable__content.fitted {\n",
       "  /* fitted */\n",
       "  background-color: var(--sklearn-color-fitted-level-0);\n",
       "}\n",
       "\n",
       "#sk-container-id-1 div.sk-toggleable__content pre {\n",
       "  margin: 0.2em;\n",
       "  border-radius: 0.25em;\n",
       "  color: var(--sklearn-color-text);\n",
       "  /* unfitted */\n",
       "  background-color: var(--sklearn-color-unfitted-level-0);\n",
       "}\n",
       "\n",
       "#sk-container-id-1 div.sk-toggleable__content.fitted pre {\n",
       "  /* unfitted */\n",
       "  background-color: var(--sklearn-color-fitted-level-0);\n",
       "}\n",
       "\n",
       "#sk-container-id-1 input.sk-toggleable__control:checked~div.sk-toggleable__content {\n",
       "  /* Expand drop-down */\n",
       "  max-height: 200px;\n",
       "  max-width: 100%;\n",
       "  overflow: auto;\n",
       "}\n",
       "\n",
       "#sk-container-id-1 input.sk-toggleable__control:checked~label.sk-toggleable__label-arrow:before {\n",
       "  content: \"▾\";\n",
       "}\n",
       "\n",
       "/* Pipeline/ColumnTransformer-specific style */\n",
       "\n",
       "#sk-container-id-1 div.sk-label input.sk-toggleable__control:checked~label.sk-toggleable__label {\n",
       "  color: var(--sklearn-color-text);\n",
       "  background-color: var(--sklearn-color-unfitted-level-2);\n",
       "}\n",
       "\n",
       "#sk-container-id-1 div.sk-label.fitted input.sk-toggleable__control:checked~label.sk-toggleable__label {\n",
       "  background-color: var(--sklearn-color-fitted-level-2);\n",
       "}\n",
       "\n",
       "/* Estimator-specific style */\n",
       "\n",
       "/* Colorize estimator box */\n",
       "#sk-container-id-1 div.sk-estimator input.sk-toggleable__control:checked~label.sk-toggleable__label {\n",
       "  /* unfitted */\n",
       "  background-color: var(--sklearn-color-unfitted-level-2);\n",
       "}\n",
       "\n",
       "#sk-container-id-1 div.sk-estimator.fitted input.sk-toggleable__control:checked~label.sk-toggleable__label {\n",
       "  /* fitted */\n",
       "  background-color: var(--sklearn-color-fitted-level-2);\n",
       "}\n",
       "\n",
       "#sk-container-id-1 div.sk-label label.sk-toggleable__label,\n",
       "#sk-container-id-1 div.sk-label label {\n",
       "  /* The background is the default theme color */\n",
       "  color: var(--sklearn-color-text-on-default-background);\n",
       "}\n",
       "\n",
       "/* On hover, darken the color of the background */\n",
       "#sk-container-id-1 div.sk-label:hover label.sk-toggleable__label {\n",
       "  color: var(--sklearn-color-text);\n",
       "  background-color: var(--sklearn-color-unfitted-level-2);\n",
       "}\n",
       "\n",
       "/* Label box, darken color on hover, fitted */\n",
       "#sk-container-id-1 div.sk-label.fitted:hover label.sk-toggleable__label.fitted {\n",
       "  color: var(--sklearn-color-text);\n",
       "  background-color: var(--sklearn-color-fitted-level-2);\n",
       "}\n",
       "\n",
       "/* Estimator label */\n",
       "\n",
       "#sk-container-id-1 div.sk-label label {\n",
       "  font-family: monospace;\n",
       "  font-weight: bold;\n",
       "  display: inline-block;\n",
       "  line-height: 1.2em;\n",
       "}\n",
       "\n",
       "#sk-container-id-1 div.sk-label-container {\n",
       "  text-align: center;\n",
       "}\n",
       "\n",
       "/* Estimator-specific */\n",
       "#sk-container-id-1 div.sk-estimator {\n",
       "  font-family: monospace;\n",
       "  border: 1px dotted var(--sklearn-color-border-box);\n",
       "  border-radius: 0.25em;\n",
       "  box-sizing: border-box;\n",
       "  margin-bottom: 0.5em;\n",
       "  /* unfitted */\n",
       "  background-color: var(--sklearn-color-unfitted-level-0);\n",
       "}\n",
       "\n",
       "#sk-container-id-1 div.sk-estimator.fitted {\n",
       "  /* fitted */\n",
       "  background-color: var(--sklearn-color-fitted-level-0);\n",
       "}\n",
       "\n",
       "/* on hover */\n",
       "#sk-container-id-1 div.sk-estimator:hover {\n",
       "  /* unfitted */\n",
       "  background-color: var(--sklearn-color-unfitted-level-2);\n",
       "}\n",
       "\n",
       "#sk-container-id-1 div.sk-estimator.fitted:hover {\n",
       "  /* fitted */\n",
       "  background-color: var(--sklearn-color-fitted-level-2);\n",
       "}\n",
       "\n",
       "/* Specification for estimator info (e.g. \"i\" and \"?\") */\n",
       "\n",
       "/* Common style for \"i\" and \"?\" */\n",
       "\n",
       ".sk-estimator-doc-link,\n",
       "a:link.sk-estimator-doc-link,\n",
       "a:visited.sk-estimator-doc-link {\n",
       "  float: right;\n",
       "  font-size: smaller;\n",
       "  line-height: 1em;\n",
       "  font-family: monospace;\n",
       "  background-color: var(--sklearn-color-background);\n",
       "  border-radius: 1em;\n",
       "  height: 1em;\n",
       "  width: 1em;\n",
       "  text-decoration: none !important;\n",
       "  margin-left: 0.5em;\n",
       "  text-align: center;\n",
       "  /* unfitted */\n",
       "  border: var(--sklearn-color-unfitted-level-1) 1pt solid;\n",
       "  color: var(--sklearn-color-unfitted-level-1);\n",
       "}\n",
       "\n",
       ".sk-estimator-doc-link.fitted,\n",
       "a:link.sk-estimator-doc-link.fitted,\n",
       "a:visited.sk-estimator-doc-link.fitted {\n",
       "  /* fitted */\n",
       "  border: var(--sklearn-color-fitted-level-1) 1pt solid;\n",
       "  color: var(--sklearn-color-fitted-level-1);\n",
       "}\n",
       "\n",
       "/* On hover */\n",
       "div.sk-estimator:hover .sk-estimator-doc-link:hover,\n",
       ".sk-estimator-doc-link:hover,\n",
       "div.sk-label-container:hover .sk-estimator-doc-link:hover,\n",
       ".sk-estimator-doc-link:hover {\n",
       "  /* unfitted */\n",
       "  background-color: var(--sklearn-color-unfitted-level-3);\n",
       "  color: var(--sklearn-color-background);\n",
       "  text-decoration: none;\n",
       "}\n",
       "\n",
       "div.sk-estimator.fitted:hover .sk-estimator-doc-link.fitted:hover,\n",
       ".sk-estimator-doc-link.fitted:hover,\n",
       "div.sk-label-container:hover .sk-estimator-doc-link.fitted:hover,\n",
       ".sk-estimator-doc-link.fitted:hover {\n",
       "  /* fitted */\n",
       "  background-color: var(--sklearn-color-fitted-level-3);\n",
       "  color: var(--sklearn-color-background);\n",
       "  text-decoration: none;\n",
       "}\n",
       "\n",
       "/* Span, style for the box shown on hovering the info icon */\n",
       ".sk-estimator-doc-link span {\n",
       "  display: none;\n",
       "  z-index: 9999;\n",
       "  position: relative;\n",
       "  font-weight: normal;\n",
       "  right: .2ex;\n",
       "  padding: .5ex;\n",
       "  margin: .5ex;\n",
       "  width: min-content;\n",
       "  min-width: 20ex;\n",
       "  max-width: 50ex;\n",
       "  color: var(--sklearn-color-text);\n",
       "  box-shadow: 2pt 2pt 4pt #999;\n",
       "  /* unfitted */\n",
       "  background: var(--sklearn-color-unfitted-level-0);\n",
       "  border: .5pt solid var(--sklearn-color-unfitted-level-3);\n",
       "}\n",
       "\n",
       ".sk-estimator-doc-link.fitted span {\n",
       "  /* fitted */\n",
       "  background: var(--sklearn-color-fitted-level-0);\n",
       "  border: var(--sklearn-color-fitted-level-3);\n",
       "}\n",
       "\n",
       ".sk-estimator-doc-link:hover span {\n",
       "  display: block;\n",
       "}\n",
       "\n",
       "/* \"?\"-specific style due to the `<a>` HTML tag */\n",
       "\n",
       "#sk-container-id-1 a.estimator_doc_link {\n",
       "  float: right;\n",
       "  font-size: 1rem;\n",
       "  line-height: 1em;\n",
       "  font-family: monospace;\n",
       "  background-color: var(--sklearn-color-background);\n",
       "  border-radius: 1rem;\n",
       "  height: 1rem;\n",
       "  width: 1rem;\n",
       "  text-decoration: none;\n",
       "  /* unfitted */\n",
       "  color: var(--sklearn-color-unfitted-level-1);\n",
       "  border: var(--sklearn-color-unfitted-level-1) 1pt solid;\n",
       "}\n",
       "\n",
       "#sk-container-id-1 a.estimator_doc_link.fitted {\n",
       "  /* fitted */\n",
       "  border: var(--sklearn-color-fitted-level-1) 1pt solid;\n",
       "  color: var(--sklearn-color-fitted-level-1);\n",
       "}\n",
       "\n",
       "/* On hover */\n",
       "#sk-container-id-1 a.estimator_doc_link:hover {\n",
       "  /* unfitted */\n",
       "  background-color: var(--sklearn-color-unfitted-level-3);\n",
       "  color: var(--sklearn-color-background);\n",
       "  text-decoration: none;\n",
       "}\n",
       "\n",
       "#sk-container-id-1 a.estimator_doc_link.fitted:hover {\n",
       "  /* fitted */\n",
       "  background-color: var(--sklearn-color-fitted-level-3);\n",
       "}\n",
       "</style><div id=\"sk-container-id-1\" class=\"sk-top-container\"><div class=\"sk-text-repr-fallback\"><pre>TfidfVectorizer()</pre><b>In a Jupyter environment, please rerun this cell to show the HTML representation or trust the notebook. <br />On GitHub, the HTML representation is unable to render, please try loading this page with nbviewer.org.</b></div><div class=\"sk-container\" hidden><div class=\"sk-item\"><div class=\"sk-estimator  sk-toggleable\"><input class=\"sk-toggleable__control sk-hidden--visually\" id=\"sk-estimator-id-1\" type=\"checkbox\" checked><label for=\"sk-estimator-id-1\" class=\"sk-toggleable__label  sk-toggleable__label-arrow\"><div><div>TfidfVectorizer</div></div><div><a class=\"sk-estimator-doc-link \" rel=\"noreferrer\" target=\"_blank\" href=\"https://scikit-learn.org/1.6/modules/generated/sklearn.feature_extraction.text.TfidfVectorizer.html\">?<span>Documentation for TfidfVectorizer</span></a><span class=\"sk-estimator-doc-link \">i<span>Not fitted</span></span></div></label><div class=\"sk-toggleable__content \"><pre>TfidfVectorizer()</pre></div> </div></div></div></div>"
      ],
      "text/plain": [
       "TfidfVectorizer()"
      ]
     },
     "execution_count": 24,
     "metadata": {},
     "output_type": "execute_result"
    }
   ],
   "source": [
    "TfIdf = TfidfVectorizer() #Initializing TFIDF Vectorizer\n",
    "TfIdf"
   ]
  },
  {
   "cell_type": "code",
   "execution_count": 25,
   "id": "fe029348",
   "metadata": {},
   "outputs": [
    {
     "data": {
      "text/plain": [
       "<Compressed Sparse Row sparse matrix of dtype 'float64'\n",
       "\twith 401581 stored elements and shape (2000, 51404)>"
      ]
     },
     "execution_count": 25,
     "metadata": {},
     "output_type": "execute_result"
    }
   ],
   "source": [
    "# Fit and transform the cleaned_text column to TF-IDF features\n",
    "tfidf_features = TfIdf.fit_transform(blog['Data'])\n",
    "tfidf_features"
   ]
  },
  {
   "cell_type": "code",
   "execution_count": 26,
   "id": "57213f8b",
   "metadata": {},
   "outputs": [
    {
     "name": "stdout",
     "output_type": "stream",
     "text": [
      "Shape of TF-IDF features matrix: (2000, 51404)\n"
     ]
    }
   ],
   "source": [
    "# Display the shape of the TF-IDF features matrix\n",
    "print(\"Shape of TF-IDF features matrix:\", tfidf_features.shape)"
   ]
  },
  {
   "cell_type": "code",
   "execution_count": 27,
   "id": "b926f895",
   "metadata": {},
   "outputs": [],
   "source": [
    "# Split the data into training and test sets (80% train, 20% test)\n",
    "from sklearn.model_selection import train_test_split\n",
    "X_train, X_test, y_train, y_test = train_test_split(tfidf_features, blog['Labels'], test_size=0.2, random_state=42)\n",
    "     "
   ]
  },
  {
   "cell_type": "code",
   "execution_count": 28,
   "id": "3c4ea584",
   "metadata": {},
   "outputs": [
    {
     "name": "stdout",
     "output_type": "stream",
     "text": [
      "Shape of X_train: (1600, 51404)\n",
      "Shape of X_test: (400, 51404)\n",
      "Shape of y_train: (1600,)\n",
      "Shape of y_test: (400,)\n"
     ]
    }
   ],
   "source": [
    "# Display the shapes of the training and test sets\n",
    "print(\"Shape of X_train:\", X_train.shape)\n",
    "print(\"Shape of X_test:\", X_test.shape)\n",
    "print(\"Shape of y_train:\", y_train.shape)\n",
    "print(\"Shape of y_test:\", y_test.shape)"
   ]
  },
  {
   "cell_type": "code",
   "execution_count": 29,
   "id": "22ec748f",
   "metadata": {},
   "outputs": [],
   "source": [
    "from sklearn.naive_bayes import MultinomialNB #Importing Naive Bayes\n",
    "from sklearn.metrics import accuracy_score, classification_report, confusion_matrix"
   ]
  },
  {
   "cell_type": "code",
   "execution_count": 30,
   "id": "7394f83f",
   "metadata": {},
   "outputs": [
    {
     "data": {
      "text/html": [
       "<style>#sk-container-id-2 {\n",
       "  /* Definition of color scheme common for light and dark mode */\n",
       "  --sklearn-color-text: #000;\n",
       "  --sklearn-color-text-muted: #666;\n",
       "  --sklearn-color-line: gray;\n",
       "  /* Definition of color scheme for unfitted estimators */\n",
       "  --sklearn-color-unfitted-level-0: #fff5e6;\n",
       "  --sklearn-color-unfitted-level-1: #f6e4d2;\n",
       "  --sklearn-color-unfitted-level-2: #ffe0b3;\n",
       "  --sklearn-color-unfitted-level-3: chocolate;\n",
       "  /* Definition of color scheme for fitted estimators */\n",
       "  --sklearn-color-fitted-level-0: #f0f8ff;\n",
       "  --sklearn-color-fitted-level-1: #d4ebff;\n",
       "  --sklearn-color-fitted-level-2: #b3dbfd;\n",
       "  --sklearn-color-fitted-level-3: cornflowerblue;\n",
       "\n",
       "  /* Specific color for light theme */\n",
       "  --sklearn-color-text-on-default-background: var(--sg-text-color, var(--theme-code-foreground, var(--jp-content-font-color1, black)));\n",
       "  --sklearn-color-background: var(--sg-background-color, var(--theme-background, var(--jp-layout-color0, white)));\n",
       "  --sklearn-color-border-box: var(--sg-text-color, var(--theme-code-foreground, var(--jp-content-font-color1, black)));\n",
       "  --sklearn-color-icon: #696969;\n",
       "\n",
       "  @media (prefers-color-scheme: dark) {\n",
       "    /* Redefinition of color scheme for dark theme */\n",
       "    --sklearn-color-text-on-default-background: var(--sg-text-color, var(--theme-code-foreground, var(--jp-content-font-color1, white)));\n",
       "    --sklearn-color-background: var(--sg-background-color, var(--theme-background, var(--jp-layout-color0, #111)));\n",
       "    --sklearn-color-border-box: var(--sg-text-color, var(--theme-code-foreground, var(--jp-content-font-color1, white)));\n",
       "    --sklearn-color-icon: #878787;\n",
       "  }\n",
       "}\n",
       "\n",
       "#sk-container-id-2 {\n",
       "  color: var(--sklearn-color-text);\n",
       "}\n",
       "\n",
       "#sk-container-id-2 pre {\n",
       "  padding: 0;\n",
       "}\n",
       "\n",
       "#sk-container-id-2 input.sk-hidden--visually {\n",
       "  border: 0;\n",
       "  clip: rect(1px 1px 1px 1px);\n",
       "  clip: rect(1px, 1px, 1px, 1px);\n",
       "  height: 1px;\n",
       "  margin: -1px;\n",
       "  overflow: hidden;\n",
       "  padding: 0;\n",
       "  position: absolute;\n",
       "  width: 1px;\n",
       "}\n",
       "\n",
       "#sk-container-id-2 div.sk-dashed-wrapped {\n",
       "  border: 1px dashed var(--sklearn-color-line);\n",
       "  margin: 0 0.4em 0.5em 0.4em;\n",
       "  box-sizing: border-box;\n",
       "  padding-bottom: 0.4em;\n",
       "  background-color: var(--sklearn-color-background);\n",
       "}\n",
       "\n",
       "#sk-container-id-2 div.sk-container {\n",
       "  /* jupyter's `normalize.less` sets `[hidden] { display: none; }`\n",
       "     but bootstrap.min.css set `[hidden] { display: none !important; }`\n",
       "     so we also need the `!important` here to be able to override the\n",
       "     default hidden behavior on the sphinx rendered scikit-learn.org.\n",
       "     See: https://github.com/scikit-learn/scikit-learn/issues/21755 */\n",
       "  display: inline-block !important;\n",
       "  position: relative;\n",
       "}\n",
       "\n",
       "#sk-container-id-2 div.sk-text-repr-fallback {\n",
       "  display: none;\n",
       "}\n",
       "\n",
       "div.sk-parallel-item,\n",
       "div.sk-serial,\n",
       "div.sk-item {\n",
       "  /* draw centered vertical line to link estimators */\n",
       "  background-image: linear-gradient(var(--sklearn-color-text-on-default-background), var(--sklearn-color-text-on-default-background));\n",
       "  background-size: 2px 100%;\n",
       "  background-repeat: no-repeat;\n",
       "  background-position: center center;\n",
       "}\n",
       "\n",
       "/* Parallel-specific style estimator block */\n",
       "\n",
       "#sk-container-id-2 div.sk-parallel-item::after {\n",
       "  content: \"\";\n",
       "  width: 100%;\n",
       "  border-bottom: 2px solid var(--sklearn-color-text-on-default-background);\n",
       "  flex-grow: 1;\n",
       "}\n",
       "\n",
       "#sk-container-id-2 div.sk-parallel {\n",
       "  display: flex;\n",
       "  align-items: stretch;\n",
       "  justify-content: center;\n",
       "  background-color: var(--sklearn-color-background);\n",
       "  position: relative;\n",
       "}\n",
       "\n",
       "#sk-container-id-2 div.sk-parallel-item {\n",
       "  display: flex;\n",
       "  flex-direction: column;\n",
       "}\n",
       "\n",
       "#sk-container-id-2 div.sk-parallel-item:first-child::after {\n",
       "  align-self: flex-end;\n",
       "  width: 50%;\n",
       "}\n",
       "\n",
       "#sk-container-id-2 div.sk-parallel-item:last-child::after {\n",
       "  align-self: flex-start;\n",
       "  width: 50%;\n",
       "}\n",
       "\n",
       "#sk-container-id-2 div.sk-parallel-item:only-child::after {\n",
       "  width: 0;\n",
       "}\n",
       "\n",
       "/* Serial-specific style estimator block */\n",
       "\n",
       "#sk-container-id-2 div.sk-serial {\n",
       "  display: flex;\n",
       "  flex-direction: column;\n",
       "  align-items: center;\n",
       "  background-color: var(--sklearn-color-background);\n",
       "  padding-right: 1em;\n",
       "  padding-left: 1em;\n",
       "}\n",
       "\n",
       "\n",
       "/* Toggleable style: style used for estimator/Pipeline/ColumnTransformer box that is\n",
       "clickable and can be expanded/collapsed.\n",
       "- Pipeline and ColumnTransformer use this feature and define the default style\n",
       "- Estimators will overwrite some part of the style using the `sk-estimator` class\n",
       "*/\n",
       "\n",
       "/* Pipeline and ColumnTransformer style (default) */\n",
       "\n",
       "#sk-container-id-2 div.sk-toggleable {\n",
       "  /* Default theme specific background. It is overwritten whether we have a\n",
       "  specific estimator or a Pipeline/ColumnTransformer */\n",
       "  background-color: var(--sklearn-color-background);\n",
       "}\n",
       "\n",
       "/* Toggleable label */\n",
       "#sk-container-id-2 label.sk-toggleable__label {\n",
       "  cursor: pointer;\n",
       "  display: flex;\n",
       "  width: 100%;\n",
       "  margin-bottom: 0;\n",
       "  padding: 0.5em;\n",
       "  box-sizing: border-box;\n",
       "  text-align: center;\n",
       "  align-items: start;\n",
       "  justify-content: space-between;\n",
       "  gap: 0.5em;\n",
       "}\n",
       "\n",
       "#sk-container-id-2 label.sk-toggleable__label .caption {\n",
       "  font-size: 0.6rem;\n",
       "  font-weight: lighter;\n",
       "  color: var(--sklearn-color-text-muted);\n",
       "}\n",
       "\n",
       "#sk-container-id-2 label.sk-toggleable__label-arrow:before {\n",
       "  /* Arrow on the left of the label */\n",
       "  content: \"▸\";\n",
       "  float: left;\n",
       "  margin-right: 0.25em;\n",
       "  color: var(--sklearn-color-icon);\n",
       "}\n",
       "\n",
       "#sk-container-id-2 label.sk-toggleable__label-arrow:hover:before {\n",
       "  color: var(--sklearn-color-text);\n",
       "}\n",
       "\n",
       "/* Toggleable content - dropdown */\n",
       "\n",
       "#sk-container-id-2 div.sk-toggleable__content {\n",
       "  max-height: 0;\n",
       "  max-width: 0;\n",
       "  overflow: hidden;\n",
       "  text-align: left;\n",
       "  /* unfitted */\n",
       "  background-color: var(--sklearn-color-unfitted-level-0);\n",
       "}\n",
       "\n",
       "#sk-container-id-2 div.sk-toggleable__content.fitted {\n",
       "  /* fitted */\n",
       "  background-color: var(--sklearn-color-fitted-level-0);\n",
       "}\n",
       "\n",
       "#sk-container-id-2 div.sk-toggleable__content pre {\n",
       "  margin: 0.2em;\n",
       "  border-radius: 0.25em;\n",
       "  color: var(--sklearn-color-text);\n",
       "  /* unfitted */\n",
       "  background-color: var(--sklearn-color-unfitted-level-0);\n",
       "}\n",
       "\n",
       "#sk-container-id-2 div.sk-toggleable__content.fitted pre {\n",
       "  /* unfitted */\n",
       "  background-color: var(--sklearn-color-fitted-level-0);\n",
       "}\n",
       "\n",
       "#sk-container-id-2 input.sk-toggleable__control:checked~div.sk-toggleable__content {\n",
       "  /* Expand drop-down */\n",
       "  max-height: 200px;\n",
       "  max-width: 100%;\n",
       "  overflow: auto;\n",
       "}\n",
       "\n",
       "#sk-container-id-2 input.sk-toggleable__control:checked~label.sk-toggleable__label-arrow:before {\n",
       "  content: \"▾\";\n",
       "}\n",
       "\n",
       "/* Pipeline/ColumnTransformer-specific style */\n",
       "\n",
       "#sk-container-id-2 div.sk-label input.sk-toggleable__control:checked~label.sk-toggleable__label {\n",
       "  color: var(--sklearn-color-text);\n",
       "  background-color: var(--sklearn-color-unfitted-level-2);\n",
       "}\n",
       "\n",
       "#sk-container-id-2 div.sk-label.fitted input.sk-toggleable__control:checked~label.sk-toggleable__label {\n",
       "  background-color: var(--sklearn-color-fitted-level-2);\n",
       "}\n",
       "\n",
       "/* Estimator-specific style */\n",
       "\n",
       "/* Colorize estimator box */\n",
       "#sk-container-id-2 div.sk-estimator input.sk-toggleable__control:checked~label.sk-toggleable__label {\n",
       "  /* unfitted */\n",
       "  background-color: var(--sklearn-color-unfitted-level-2);\n",
       "}\n",
       "\n",
       "#sk-container-id-2 div.sk-estimator.fitted input.sk-toggleable__control:checked~label.sk-toggleable__label {\n",
       "  /* fitted */\n",
       "  background-color: var(--sklearn-color-fitted-level-2);\n",
       "}\n",
       "\n",
       "#sk-container-id-2 div.sk-label label.sk-toggleable__label,\n",
       "#sk-container-id-2 div.sk-label label {\n",
       "  /* The background is the default theme color */\n",
       "  color: var(--sklearn-color-text-on-default-background);\n",
       "}\n",
       "\n",
       "/* On hover, darken the color of the background */\n",
       "#sk-container-id-2 div.sk-label:hover label.sk-toggleable__label {\n",
       "  color: var(--sklearn-color-text);\n",
       "  background-color: var(--sklearn-color-unfitted-level-2);\n",
       "}\n",
       "\n",
       "/* Label box, darken color on hover, fitted */\n",
       "#sk-container-id-2 div.sk-label.fitted:hover label.sk-toggleable__label.fitted {\n",
       "  color: var(--sklearn-color-text);\n",
       "  background-color: var(--sklearn-color-fitted-level-2);\n",
       "}\n",
       "\n",
       "/* Estimator label */\n",
       "\n",
       "#sk-container-id-2 div.sk-label label {\n",
       "  font-family: monospace;\n",
       "  font-weight: bold;\n",
       "  display: inline-block;\n",
       "  line-height: 1.2em;\n",
       "}\n",
       "\n",
       "#sk-container-id-2 div.sk-label-container {\n",
       "  text-align: center;\n",
       "}\n",
       "\n",
       "/* Estimator-specific */\n",
       "#sk-container-id-2 div.sk-estimator {\n",
       "  font-family: monospace;\n",
       "  border: 1px dotted var(--sklearn-color-border-box);\n",
       "  border-radius: 0.25em;\n",
       "  box-sizing: border-box;\n",
       "  margin-bottom: 0.5em;\n",
       "  /* unfitted */\n",
       "  background-color: var(--sklearn-color-unfitted-level-0);\n",
       "}\n",
       "\n",
       "#sk-container-id-2 div.sk-estimator.fitted {\n",
       "  /* fitted */\n",
       "  background-color: var(--sklearn-color-fitted-level-0);\n",
       "}\n",
       "\n",
       "/* on hover */\n",
       "#sk-container-id-2 div.sk-estimator:hover {\n",
       "  /* unfitted */\n",
       "  background-color: var(--sklearn-color-unfitted-level-2);\n",
       "}\n",
       "\n",
       "#sk-container-id-2 div.sk-estimator.fitted:hover {\n",
       "  /* fitted */\n",
       "  background-color: var(--sklearn-color-fitted-level-2);\n",
       "}\n",
       "\n",
       "/* Specification for estimator info (e.g. \"i\" and \"?\") */\n",
       "\n",
       "/* Common style for \"i\" and \"?\" */\n",
       "\n",
       ".sk-estimator-doc-link,\n",
       "a:link.sk-estimator-doc-link,\n",
       "a:visited.sk-estimator-doc-link {\n",
       "  float: right;\n",
       "  font-size: smaller;\n",
       "  line-height: 1em;\n",
       "  font-family: monospace;\n",
       "  background-color: var(--sklearn-color-background);\n",
       "  border-radius: 1em;\n",
       "  height: 1em;\n",
       "  width: 1em;\n",
       "  text-decoration: none !important;\n",
       "  margin-left: 0.5em;\n",
       "  text-align: center;\n",
       "  /* unfitted */\n",
       "  border: var(--sklearn-color-unfitted-level-1) 1pt solid;\n",
       "  color: var(--sklearn-color-unfitted-level-1);\n",
       "}\n",
       "\n",
       ".sk-estimator-doc-link.fitted,\n",
       "a:link.sk-estimator-doc-link.fitted,\n",
       "a:visited.sk-estimator-doc-link.fitted {\n",
       "  /* fitted */\n",
       "  border: var(--sklearn-color-fitted-level-1) 1pt solid;\n",
       "  color: var(--sklearn-color-fitted-level-1);\n",
       "}\n",
       "\n",
       "/* On hover */\n",
       "div.sk-estimator:hover .sk-estimator-doc-link:hover,\n",
       ".sk-estimator-doc-link:hover,\n",
       "div.sk-label-container:hover .sk-estimator-doc-link:hover,\n",
       ".sk-estimator-doc-link:hover {\n",
       "  /* unfitted */\n",
       "  background-color: var(--sklearn-color-unfitted-level-3);\n",
       "  color: var(--sklearn-color-background);\n",
       "  text-decoration: none;\n",
       "}\n",
       "\n",
       "div.sk-estimator.fitted:hover .sk-estimator-doc-link.fitted:hover,\n",
       ".sk-estimator-doc-link.fitted:hover,\n",
       "div.sk-label-container:hover .sk-estimator-doc-link.fitted:hover,\n",
       ".sk-estimator-doc-link.fitted:hover {\n",
       "  /* fitted */\n",
       "  background-color: var(--sklearn-color-fitted-level-3);\n",
       "  color: var(--sklearn-color-background);\n",
       "  text-decoration: none;\n",
       "}\n",
       "\n",
       "/* Span, style for the box shown on hovering the info icon */\n",
       ".sk-estimator-doc-link span {\n",
       "  display: none;\n",
       "  z-index: 9999;\n",
       "  position: relative;\n",
       "  font-weight: normal;\n",
       "  right: .2ex;\n",
       "  padding: .5ex;\n",
       "  margin: .5ex;\n",
       "  width: min-content;\n",
       "  min-width: 20ex;\n",
       "  max-width: 50ex;\n",
       "  color: var(--sklearn-color-text);\n",
       "  box-shadow: 2pt 2pt 4pt #999;\n",
       "  /* unfitted */\n",
       "  background: var(--sklearn-color-unfitted-level-0);\n",
       "  border: .5pt solid var(--sklearn-color-unfitted-level-3);\n",
       "}\n",
       "\n",
       ".sk-estimator-doc-link.fitted span {\n",
       "  /* fitted */\n",
       "  background: var(--sklearn-color-fitted-level-0);\n",
       "  border: var(--sklearn-color-fitted-level-3);\n",
       "}\n",
       "\n",
       ".sk-estimator-doc-link:hover span {\n",
       "  display: block;\n",
       "}\n",
       "\n",
       "/* \"?\"-specific style due to the `<a>` HTML tag */\n",
       "\n",
       "#sk-container-id-2 a.estimator_doc_link {\n",
       "  float: right;\n",
       "  font-size: 1rem;\n",
       "  line-height: 1em;\n",
       "  font-family: monospace;\n",
       "  background-color: var(--sklearn-color-background);\n",
       "  border-radius: 1rem;\n",
       "  height: 1rem;\n",
       "  width: 1rem;\n",
       "  text-decoration: none;\n",
       "  /* unfitted */\n",
       "  color: var(--sklearn-color-unfitted-level-1);\n",
       "  border: var(--sklearn-color-unfitted-level-1) 1pt solid;\n",
       "}\n",
       "\n",
       "#sk-container-id-2 a.estimator_doc_link.fitted {\n",
       "  /* fitted */\n",
       "  border: var(--sklearn-color-fitted-level-1) 1pt solid;\n",
       "  color: var(--sklearn-color-fitted-level-1);\n",
       "}\n",
       "\n",
       "/* On hover */\n",
       "#sk-container-id-2 a.estimator_doc_link:hover {\n",
       "  /* unfitted */\n",
       "  background-color: var(--sklearn-color-unfitted-level-3);\n",
       "  color: var(--sklearn-color-background);\n",
       "  text-decoration: none;\n",
       "}\n",
       "\n",
       "#sk-container-id-2 a.estimator_doc_link.fitted:hover {\n",
       "  /* fitted */\n",
       "  background-color: var(--sklearn-color-fitted-level-3);\n",
       "}\n",
       "</style><div id=\"sk-container-id-2\" class=\"sk-top-container\"><div class=\"sk-text-repr-fallback\"><pre>MultinomialNB()</pre><b>In a Jupyter environment, please rerun this cell to show the HTML representation or trust the notebook. <br />On GitHub, the HTML representation is unable to render, please try loading this page with nbviewer.org.</b></div><div class=\"sk-container\" hidden><div class=\"sk-item\"><div class=\"sk-estimator  sk-toggleable\"><input class=\"sk-toggleable__control sk-hidden--visually\" id=\"sk-estimator-id-2\" type=\"checkbox\" checked><label for=\"sk-estimator-id-2\" class=\"sk-toggleable__label  sk-toggleable__label-arrow\"><div><div>MultinomialNB</div></div><div><a class=\"sk-estimator-doc-link \" rel=\"noreferrer\" target=\"_blank\" href=\"https://scikit-learn.org/1.6/modules/generated/sklearn.naive_bayes.MultinomialNB.html\">?<span>Documentation for MultinomialNB</span></a><span class=\"sk-estimator-doc-link \">i<span>Not fitted</span></span></div></label><div class=\"sk-toggleable__content \"><pre>MultinomialNB()</pre></div> </div></div></div></div>"
      ],
      "text/plain": [
       "MultinomialNB()"
      ]
     },
     "execution_count": 30,
     "metadata": {},
     "output_type": "execute_result"
    }
   ],
   "source": [
    "# Initialize the Naive Bayes classifier\n",
    "nb_clas = MultinomialNB()\n",
    "nb_clas"
   ]
  },
  {
   "cell_type": "code",
   "execution_count": 31,
   "id": "96a4edfa",
   "metadata": {},
   "outputs": [
    {
     "data": {
      "text/html": [
       "<style>#sk-container-id-3 {\n",
       "  /* Definition of color scheme common for light and dark mode */\n",
       "  --sklearn-color-text: #000;\n",
       "  --sklearn-color-text-muted: #666;\n",
       "  --sklearn-color-line: gray;\n",
       "  /* Definition of color scheme for unfitted estimators */\n",
       "  --sklearn-color-unfitted-level-0: #fff5e6;\n",
       "  --sklearn-color-unfitted-level-1: #f6e4d2;\n",
       "  --sklearn-color-unfitted-level-2: #ffe0b3;\n",
       "  --sklearn-color-unfitted-level-3: chocolate;\n",
       "  /* Definition of color scheme for fitted estimators */\n",
       "  --sklearn-color-fitted-level-0: #f0f8ff;\n",
       "  --sklearn-color-fitted-level-1: #d4ebff;\n",
       "  --sklearn-color-fitted-level-2: #b3dbfd;\n",
       "  --sklearn-color-fitted-level-3: cornflowerblue;\n",
       "\n",
       "  /* Specific color for light theme */\n",
       "  --sklearn-color-text-on-default-background: var(--sg-text-color, var(--theme-code-foreground, var(--jp-content-font-color1, black)));\n",
       "  --sklearn-color-background: var(--sg-background-color, var(--theme-background, var(--jp-layout-color0, white)));\n",
       "  --sklearn-color-border-box: var(--sg-text-color, var(--theme-code-foreground, var(--jp-content-font-color1, black)));\n",
       "  --sklearn-color-icon: #696969;\n",
       "\n",
       "  @media (prefers-color-scheme: dark) {\n",
       "    /* Redefinition of color scheme for dark theme */\n",
       "    --sklearn-color-text-on-default-background: var(--sg-text-color, var(--theme-code-foreground, var(--jp-content-font-color1, white)));\n",
       "    --sklearn-color-background: var(--sg-background-color, var(--theme-background, var(--jp-layout-color0, #111)));\n",
       "    --sklearn-color-border-box: var(--sg-text-color, var(--theme-code-foreground, var(--jp-content-font-color1, white)));\n",
       "    --sklearn-color-icon: #878787;\n",
       "  }\n",
       "}\n",
       "\n",
       "#sk-container-id-3 {\n",
       "  color: var(--sklearn-color-text);\n",
       "}\n",
       "\n",
       "#sk-container-id-3 pre {\n",
       "  padding: 0;\n",
       "}\n",
       "\n",
       "#sk-container-id-3 input.sk-hidden--visually {\n",
       "  border: 0;\n",
       "  clip: rect(1px 1px 1px 1px);\n",
       "  clip: rect(1px, 1px, 1px, 1px);\n",
       "  height: 1px;\n",
       "  margin: -1px;\n",
       "  overflow: hidden;\n",
       "  padding: 0;\n",
       "  position: absolute;\n",
       "  width: 1px;\n",
       "}\n",
       "\n",
       "#sk-container-id-3 div.sk-dashed-wrapped {\n",
       "  border: 1px dashed var(--sklearn-color-line);\n",
       "  margin: 0 0.4em 0.5em 0.4em;\n",
       "  box-sizing: border-box;\n",
       "  padding-bottom: 0.4em;\n",
       "  background-color: var(--sklearn-color-background);\n",
       "}\n",
       "\n",
       "#sk-container-id-3 div.sk-container {\n",
       "  /* jupyter's `normalize.less` sets `[hidden] { display: none; }`\n",
       "     but bootstrap.min.css set `[hidden] { display: none !important; }`\n",
       "     so we also need the `!important` here to be able to override the\n",
       "     default hidden behavior on the sphinx rendered scikit-learn.org.\n",
       "     See: https://github.com/scikit-learn/scikit-learn/issues/21755 */\n",
       "  display: inline-block !important;\n",
       "  position: relative;\n",
       "}\n",
       "\n",
       "#sk-container-id-3 div.sk-text-repr-fallback {\n",
       "  display: none;\n",
       "}\n",
       "\n",
       "div.sk-parallel-item,\n",
       "div.sk-serial,\n",
       "div.sk-item {\n",
       "  /* draw centered vertical line to link estimators */\n",
       "  background-image: linear-gradient(var(--sklearn-color-text-on-default-background), var(--sklearn-color-text-on-default-background));\n",
       "  background-size: 2px 100%;\n",
       "  background-repeat: no-repeat;\n",
       "  background-position: center center;\n",
       "}\n",
       "\n",
       "/* Parallel-specific style estimator block */\n",
       "\n",
       "#sk-container-id-3 div.sk-parallel-item::after {\n",
       "  content: \"\";\n",
       "  width: 100%;\n",
       "  border-bottom: 2px solid var(--sklearn-color-text-on-default-background);\n",
       "  flex-grow: 1;\n",
       "}\n",
       "\n",
       "#sk-container-id-3 div.sk-parallel {\n",
       "  display: flex;\n",
       "  align-items: stretch;\n",
       "  justify-content: center;\n",
       "  background-color: var(--sklearn-color-background);\n",
       "  position: relative;\n",
       "}\n",
       "\n",
       "#sk-container-id-3 div.sk-parallel-item {\n",
       "  display: flex;\n",
       "  flex-direction: column;\n",
       "}\n",
       "\n",
       "#sk-container-id-3 div.sk-parallel-item:first-child::after {\n",
       "  align-self: flex-end;\n",
       "  width: 50%;\n",
       "}\n",
       "\n",
       "#sk-container-id-3 div.sk-parallel-item:last-child::after {\n",
       "  align-self: flex-start;\n",
       "  width: 50%;\n",
       "}\n",
       "\n",
       "#sk-container-id-3 div.sk-parallel-item:only-child::after {\n",
       "  width: 0;\n",
       "}\n",
       "\n",
       "/* Serial-specific style estimator block */\n",
       "\n",
       "#sk-container-id-3 div.sk-serial {\n",
       "  display: flex;\n",
       "  flex-direction: column;\n",
       "  align-items: center;\n",
       "  background-color: var(--sklearn-color-background);\n",
       "  padding-right: 1em;\n",
       "  padding-left: 1em;\n",
       "}\n",
       "\n",
       "\n",
       "/* Toggleable style: style used for estimator/Pipeline/ColumnTransformer box that is\n",
       "clickable and can be expanded/collapsed.\n",
       "- Pipeline and ColumnTransformer use this feature and define the default style\n",
       "- Estimators will overwrite some part of the style using the `sk-estimator` class\n",
       "*/\n",
       "\n",
       "/* Pipeline and ColumnTransformer style (default) */\n",
       "\n",
       "#sk-container-id-3 div.sk-toggleable {\n",
       "  /* Default theme specific background. It is overwritten whether we have a\n",
       "  specific estimator or a Pipeline/ColumnTransformer */\n",
       "  background-color: var(--sklearn-color-background);\n",
       "}\n",
       "\n",
       "/* Toggleable label */\n",
       "#sk-container-id-3 label.sk-toggleable__label {\n",
       "  cursor: pointer;\n",
       "  display: flex;\n",
       "  width: 100%;\n",
       "  margin-bottom: 0;\n",
       "  padding: 0.5em;\n",
       "  box-sizing: border-box;\n",
       "  text-align: center;\n",
       "  align-items: start;\n",
       "  justify-content: space-between;\n",
       "  gap: 0.5em;\n",
       "}\n",
       "\n",
       "#sk-container-id-3 label.sk-toggleable__label .caption {\n",
       "  font-size: 0.6rem;\n",
       "  font-weight: lighter;\n",
       "  color: var(--sklearn-color-text-muted);\n",
       "}\n",
       "\n",
       "#sk-container-id-3 label.sk-toggleable__label-arrow:before {\n",
       "  /* Arrow on the left of the label */\n",
       "  content: \"▸\";\n",
       "  float: left;\n",
       "  margin-right: 0.25em;\n",
       "  color: var(--sklearn-color-icon);\n",
       "}\n",
       "\n",
       "#sk-container-id-3 label.sk-toggleable__label-arrow:hover:before {\n",
       "  color: var(--sklearn-color-text);\n",
       "}\n",
       "\n",
       "/* Toggleable content - dropdown */\n",
       "\n",
       "#sk-container-id-3 div.sk-toggleable__content {\n",
       "  max-height: 0;\n",
       "  max-width: 0;\n",
       "  overflow: hidden;\n",
       "  text-align: left;\n",
       "  /* unfitted */\n",
       "  background-color: var(--sklearn-color-unfitted-level-0);\n",
       "}\n",
       "\n",
       "#sk-container-id-3 div.sk-toggleable__content.fitted {\n",
       "  /* fitted */\n",
       "  background-color: var(--sklearn-color-fitted-level-0);\n",
       "}\n",
       "\n",
       "#sk-container-id-3 div.sk-toggleable__content pre {\n",
       "  margin: 0.2em;\n",
       "  border-radius: 0.25em;\n",
       "  color: var(--sklearn-color-text);\n",
       "  /* unfitted */\n",
       "  background-color: var(--sklearn-color-unfitted-level-0);\n",
       "}\n",
       "\n",
       "#sk-container-id-3 div.sk-toggleable__content.fitted pre {\n",
       "  /* unfitted */\n",
       "  background-color: var(--sklearn-color-fitted-level-0);\n",
       "}\n",
       "\n",
       "#sk-container-id-3 input.sk-toggleable__control:checked~div.sk-toggleable__content {\n",
       "  /* Expand drop-down */\n",
       "  max-height: 200px;\n",
       "  max-width: 100%;\n",
       "  overflow: auto;\n",
       "}\n",
       "\n",
       "#sk-container-id-3 input.sk-toggleable__control:checked~label.sk-toggleable__label-arrow:before {\n",
       "  content: \"▾\";\n",
       "}\n",
       "\n",
       "/* Pipeline/ColumnTransformer-specific style */\n",
       "\n",
       "#sk-container-id-3 div.sk-label input.sk-toggleable__control:checked~label.sk-toggleable__label {\n",
       "  color: var(--sklearn-color-text);\n",
       "  background-color: var(--sklearn-color-unfitted-level-2);\n",
       "}\n",
       "\n",
       "#sk-container-id-3 div.sk-label.fitted input.sk-toggleable__control:checked~label.sk-toggleable__label {\n",
       "  background-color: var(--sklearn-color-fitted-level-2);\n",
       "}\n",
       "\n",
       "/* Estimator-specific style */\n",
       "\n",
       "/* Colorize estimator box */\n",
       "#sk-container-id-3 div.sk-estimator input.sk-toggleable__control:checked~label.sk-toggleable__label {\n",
       "  /* unfitted */\n",
       "  background-color: var(--sklearn-color-unfitted-level-2);\n",
       "}\n",
       "\n",
       "#sk-container-id-3 div.sk-estimator.fitted input.sk-toggleable__control:checked~label.sk-toggleable__label {\n",
       "  /* fitted */\n",
       "  background-color: var(--sklearn-color-fitted-level-2);\n",
       "}\n",
       "\n",
       "#sk-container-id-3 div.sk-label label.sk-toggleable__label,\n",
       "#sk-container-id-3 div.sk-label label {\n",
       "  /* The background is the default theme color */\n",
       "  color: var(--sklearn-color-text-on-default-background);\n",
       "}\n",
       "\n",
       "/* On hover, darken the color of the background */\n",
       "#sk-container-id-3 div.sk-label:hover label.sk-toggleable__label {\n",
       "  color: var(--sklearn-color-text);\n",
       "  background-color: var(--sklearn-color-unfitted-level-2);\n",
       "}\n",
       "\n",
       "/* Label box, darken color on hover, fitted */\n",
       "#sk-container-id-3 div.sk-label.fitted:hover label.sk-toggleable__label.fitted {\n",
       "  color: var(--sklearn-color-text);\n",
       "  background-color: var(--sklearn-color-fitted-level-2);\n",
       "}\n",
       "\n",
       "/* Estimator label */\n",
       "\n",
       "#sk-container-id-3 div.sk-label label {\n",
       "  font-family: monospace;\n",
       "  font-weight: bold;\n",
       "  display: inline-block;\n",
       "  line-height: 1.2em;\n",
       "}\n",
       "\n",
       "#sk-container-id-3 div.sk-label-container {\n",
       "  text-align: center;\n",
       "}\n",
       "\n",
       "/* Estimator-specific */\n",
       "#sk-container-id-3 div.sk-estimator {\n",
       "  font-family: monospace;\n",
       "  border: 1px dotted var(--sklearn-color-border-box);\n",
       "  border-radius: 0.25em;\n",
       "  box-sizing: border-box;\n",
       "  margin-bottom: 0.5em;\n",
       "  /* unfitted */\n",
       "  background-color: var(--sklearn-color-unfitted-level-0);\n",
       "}\n",
       "\n",
       "#sk-container-id-3 div.sk-estimator.fitted {\n",
       "  /* fitted */\n",
       "  background-color: var(--sklearn-color-fitted-level-0);\n",
       "}\n",
       "\n",
       "/* on hover */\n",
       "#sk-container-id-3 div.sk-estimator:hover {\n",
       "  /* unfitted */\n",
       "  background-color: var(--sklearn-color-unfitted-level-2);\n",
       "}\n",
       "\n",
       "#sk-container-id-3 div.sk-estimator.fitted:hover {\n",
       "  /* fitted */\n",
       "  background-color: var(--sklearn-color-fitted-level-2);\n",
       "}\n",
       "\n",
       "/* Specification for estimator info (e.g. \"i\" and \"?\") */\n",
       "\n",
       "/* Common style for \"i\" and \"?\" */\n",
       "\n",
       ".sk-estimator-doc-link,\n",
       "a:link.sk-estimator-doc-link,\n",
       "a:visited.sk-estimator-doc-link {\n",
       "  float: right;\n",
       "  font-size: smaller;\n",
       "  line-height: 1em;\n",
       "  font-family: monospace;\n",
       "  background-color: var(--sklearn-color-background);\n",
       "  border-radius: 1em;\n",
       "  height: 1em;\n",
       "  width: 1em;\n",
       "  text-decoration: none !important;\n",
       "  margin-left: 0.5em;\n",
       "  text-align: center;\n",
       "  /* unfitted */\n",
       "  border: var(--sklearn-color-unfitted-level-1) 1pt solid;\n",
       "  color: var(--sklearn-color-unfitted-level-1);\n",
       "}\n",
       "\n",
       ".sk-estimator-doc-link.fitted,\n",
       "a:link.sk-estimator-doc-link.fitted,\n",
       "a:visited.sk-estimator-doc-link.fitted {\n",
       "  /* fitted */\n",
       "  border: var(--sklearn-color-fitted-level-1) 1pt solid;\n",
       "  color: var(--sklearn-color-fitted-level-1);\n",
       "}\n",
       "\n",
       "/* On hover */\n",
       "div.sk-estimator:hover .sk-estimator-doc-link:hover,\n",
       ".sk-estimator-doc-link:hover,\n",
       "div.sk-label-container:hover .sk-estimator-doc-link:hover,\n",
       ".sk-estimator-doc-link:hover {\n",
       "  /* unfitted */\n",
       "  background-color: var(--sklearn-color-unfitted-level-3);\n",
       "  color: var(--sklearn-color-background);\n",
       "  text-decoration: none;\n",
       "}\n",
       "\n",
       "div.sk-estimator.fitted:hover .sk-estimator-doc-link.fitted:hover,\n",
       ".sk-estimator-doc-link.fitted:hover,\n",
       "div.sk-label-container:hover .sk-estimator-doc-link.fitted:hover,\n",
       ".sk-estimator-doc-link.fitted:hover {\n",
       "  /* fitted */\n",
       "  background-color: var(--sklearn-color-fitted-level-3);\n",
       "  color: var(--sklearn-color-background);\n",
       "  text-decoration: none;\n",
       "}\n",
       "\n",
       "/* Span, style for the box shown on hovering the info icon */\n",
       ".sk-estimator-doc-link span {\n",
       "  display: none;\n",
       "  z-index: 9999;\n",
       "  position: relative;\n",
       "  font-weight: normal;\n",
       "  right: .2ex;\n",
       "  padding: .5ex;\n",
       "  margin: .5ex;\n",
       "  width: min-content;\n",
       "  min-width: 20ex;\n",
       "  max-width: 50ex;\n",
       "  color: var(--sklearn-color-text);\n",
       "  box-shadow: 2pt 2pt 4pt #999;\n",
       "  /* unfitted */\n",
       "  background: var(--sklearn-color-unfitted-level-0);\n",
       "  border: .5pt solid var(--sklearn-color-unfitted-level-3);\n",
       "}\n",
       "\n",
       ".sk-estimator-doc-link.fitted span {\n",
       "  /* fitted */\n",
       "  background: var(--sklearn-color-fitted-level-0);\n",
       "  border: var(--sklearn-color-fitted-level-3);\n",
       "}\n",
       "\n",
       ".sk-estimator-doc-link:hover span {\n",
       "  display: block;\n",
       "}\n",
       "\n",
       "/* \"?\"-specific style due to the `<a>` HTML tag */\n",
       "\n",
       "#sk-container-id-3 a.estimator_doc_link {\n",
       "  float: right;\n",
       "  font-size: 1rem;\n",
       "  line-height: 1em;\n",
       "  font-family: monospace;\n",
       "  background-color: var(--sklearn-color-background);\n",
       "  border-radius: 1rem;\n",
       "  height: 1rem;\n",
       "  width: 1rem;\n",
       "  text-decoration: none;\n",
       "  /* unfitted */\n",
       "  color: var(--sklearn-color-unfitted-level-1);\n",
       "  border: var(--sklearn-color-unfitted-level-1) 1pt solid;\n",
       "}\n",
       "\n",
       "#sk-container-id-3 a.estimator_doc_link.fitted {\n",
       "  /* fitted */\n",
       "  border: var(--sklearn-color-fitted-level-1) 1pt solid;\n",
       "  color: var(--sklearn-color-fitted-level-1);\n",
       "}\n",
       "\n",
       "/* On hover */\n",
       "#sk-container-id-3 a.estimator_doc_link:hover {\n",
       "  /* unfitted */\n",
       "  background-color: var(--sklearn-color-unfitted-level-3);\n",
       "  color: var(--sklearn-color-background);\n",
       "  text-decoration: none;\n",
       "}\n",
       "\n",
       "#sk-container-id-3 a.estimator_doc_link.fitted:hover {\n",
       "  /* fitted */\n",
       "  background-color: var(--sklearn-color-fitted-level-3);\n",
       "}\n",
       "</style><div id=\"sk-container-id-3\" class=\"sk-top-container\"><div class=\"sk-text-repr-fallback\"><pre>MultinomialNB()</pre><b>In a Jupyter environment, please rerun this cell to show the HTML representation or trust the notebook. <br />On GitHub, the HTML representation is unable to render, please try loading this page with nbviewer.org.</b></div><div class=\"sk-container\" hidden><div class=\"sk-item\"><div class=\"sk-estimator fitted sk-toggleable\"><input class=\"sk-toggleable__control sk-hidden--visually\" id=\"sk-estimator-id-3\" type=\"checkbox\" checked><label for=\"sk-estimator-id-3\" class=\"sk-toggleable__label fitted sk-toggleable__label-arrow\"><div><div>MultinomialNB</div></div><div><a class=\"sk-estimator-doc-link fitted\" rel=\"noreferrer\" target=\"_blank\" href=\"https://scikit-learn.org/1.6/modules/generated/sklearn.naive_bayes.MultinomialNB.html\">?<span>Documentation for MultinomialNB</span></a><span class=\"sk-estimator-doc-link fitted\">i<span>Fitted</span></span></div></label><div class=\"sk-toggleable__content fitted\"><pre>MultinomialNB()</pre></div> </div></div></div></div>"
      ],
      "text/plain": [
       "MultinomialNB()"
      ]
     },
     "execution_count": 31,
     "metadata": {},
     "output_type": "execute_result"
    }
   ],
   "source": [
    "# Train the classifier on the training data\n",
    "nb_clas.fit(X_train, y_train)"
   ]
  },
  {
   "cell_type": "code",
   "execution_count": 32,
   "id": "fbdab171",
   "metadata": {},
   "outputs": [
    {
     "data": {
      "text/plain": [
       "array(['talk.politics.misc', 'comp.sys.ibm.pc.hardware', 'sci.med',\n",
       "       'rec.sport.baseball', 'comp.sys.ibm.pc.hardware',\n",
       "       'sci.electronics', 'rec.sport.baseball', 'talk.politics.mideast',\n",
       "       'alt.atheism', 'sci.med', 'alt.atheism', 'sci.med', 'sci.crypt',\n",
       "       'rec.sport.baseball', 'comp.sys.ibm.pc.hardware',\n",
       "       'comp.os.ms-windows.misc', 'rec.autos', 'comp.graphics',\n",
       "       'talk.politics.guns', 'talk.politics.misc', 'misc.forsale',\n",
       "       'talk.politics.misc', 'alt.atheism', 'rec.sport.hockey',\n",
       "       'alt.atheism', 'sci.crypt', 'sci.crypt', 'rec.sport.baseball',\n",
       "       'rec.autos', 'alt.atheism', 'misc.forsale', 'rec.sport.hockey',\n",
       "       'sci.crypt', 'rec.sport.hockey', 'rec.sport.hockey',\n",
       "       'comp.sys.mac.hardware', 'sci.med', 'rec.sport.hockey',\n",
       "       'rec.sport.hockey', 'comp.os.ms-windows.misc',\n",
       "       'comp.sys.ibm.pc.hardware', 'soc.religion.christian',\n",
       "       'comp.os.ms-windows.misc', 'talk.religion.misc',\n",
       "       'soc.religion.christian', 'rec.motorcycles', 'sci.crypt',\n",
       "       'rec.motorcycles', 'alt.atheism', 'talk.politics.misc',\n",
       "       'soc.religion.christian', 'sci.crypt', 'sci.space',\n",
       "       'comp.os.ms-windows.misc', 'rec.sport.baseball',\n",
       "       'talk.politics.mideast', 'sci.electronics', 'talk.politics.guns',\n",
       "       'sci.crypt', 'comp.sys.ibm.pc.hardware', 'sci.space',\n",
       "       'misc.forsale', 'talk.politics.misc', 'rec.sport.hockey',\n",
       "       'talk.politics.misc', 'talk.politics.misc', 'rec.sport.hockey',\n",
       "       'soc.religion.christian', 'comp.graphics', 'sci.space',\n",
       "       'sci.space', 'comp.sys.ibm.pc.hardware', 'talk.politics.misc',\n",
       "       'rec.sport.hockey', 'rec.autos', 'comp.sys.ibm.pc.hardware',\n",
       "       'talk.politics.misc', 'talk.politics.misc', 'sci.electronics',\n",
       "       'talk.politics.misc', 'alt.atheism', 'rec.motorcycles',\n",
       "       'sci.space', 'soc.religion.christian', 'talk.politics.misc',\n",
       "       'rec.sport.hockey', 'talk.politics.mideast',\n",
       "       'comp.sys.mac.hardware', 'comp.os.ms-windows.misc', 'sci.crypt',\n",
       "       'soc.religion.christian', 'talk.politics.mideast',\n",
       "       'comp.os.ms-windows.misc', 'comp.os.ms-windows.misc',\n",
       "       'talk.politics.misc', 'talk.politics.misc',\n",
       "       'comp.sys.mac.hardware', 'sci.electronics',\n",
       "       'soc.religion.christian', 'talk.politics.misc',\n",
       "       'rec.sport.baseball', 'rec.sport.baseball',\n",
       "       'comp.sys.mac.hardware', 'sci.med', 'comp.os.ms-windows.misc',\n",
       "       'rec.motorcycles', 'rec.autos', 'comp.os.ms-windows.misc',\n",
       "       'misc.forsale', 'sci.crypt', 'rec.autos', 'sci.space',\n",
       "       'rec.sport.hockey', 'talk.politics.mideast', 'rec.autos',\n",
       "       'sci.crypt', 'sci.crypt', 'rec.sport.baseball',\n",
       "       'comp.sys.ibm.pc.hardware', 'talk.politics.misc',\n",
       "       'talk.politics.misc', 'rec.sport.hockey', 'sci.crypt',\n",
       "       'alt.atheism', 'comp.sys.ibm.pc.hardware',\n",
       "       'soc.religion.christian', 'comp.sys.mac.hardware',\n",
       "       'rec.motorcycles', 'sci.crypt', 'comp.sys.ibm.pc.hardware',\n",
       "       'talk.religion.misc', 'talk.politics.misc', 'rec.autos',\n",
       "       'sci.crypt', 'rec.motorcycles', 'sci.electronics',\n",
       "       'soc.religion.christian', 'alt.atheism', 'talk.politics.guns',\n",
       "       'soc.religion.christian', 'sci.med', 'comp.sys.ibm.pc.hardware',\n",
       "       'talk.politics.misc', 'rec.motorcycles', 'soc.religion.christian',\n",
       "       'comp.windows.x', 'misc.forsale', 'comp.sys.mac.hardware',\n",
       "       'talk.politics.misc', 'comp.graphics', 'talk.politics.misc',\n",
       "       'rec.sport.baseball', 'misc.forsale', 'sci.crypt',\n",
       "       'comp.sys.ibm.pc.hardware', 'comp.graphics', 'sci.med',\n",
       "       'talk.politics.guns', 'comp.sys.ibm.pc.hardware',\n",
       "       'talk.politics.guns', 'misc.forsale', 'talk.politics.guns',\n",
       "       'talk.politics.misc', 'sci.crypt', 'talk.religion.misc',\n",
       "       'sci.space', 'talk.politics.mideast', 'sci.electronics',\n",
       "       'comp.os.ms-windows.misc', 'talk.politics.mideast', 'sci.crypt',\n",
       "       'misc.forsale', 'alt.atheism', 'talk.politics.misc',\n",
       "       'comp.sys.mac.hardware', 'sci.med', 'sci.electronics', 'sci.med',\n",
       "       'rec.motorcycles', 'talk.politics.guns', 'sci.electronics',\n",
       "       'rec.autos', 'talk.politics.misc', 'sci.crypt', 'rec.motorcycles',\n",
       "       'rec.autos', 'alt.atheism', 'talk.politics.guns', 'sci.crypt',\n",
       "       'sci.electronics', 'rec.autos', 'comp.os.ms-windows.misc',\n",
       "       'sci.med', 'comp.os.ms-windows.misc', 'talk.religion.misc',\n",
       "       'comp.sys.mac.hardware', 'sci.crypt', 'talk.politics.misc',\n",
       "       'misc.forsale', 'soc.religion.christian', 'rec.sport.hockey',\n",
       "       'sci.electronics', 'comp.graphics', 'rec.autos', 'sci.crypt',\n",
       "       'comp.os.ms-windows.misc', 'sci.space', 'talk.politics.misc',\n",
       "       'rec.sport.hockey', 'alt.atheism', 'talk.politics.mideast',\n",
       "       'alt.atheism', 'comp.os.ms-windows.misc', 'comp.graphics',\n",
       "       'rec.autos', 'talk.politics.misc', 'sci.crypt',\n",
       "       'comp.sys.ibm.pc.hardware', 'comp.graphics', 'sci.electronics',\n",
       "       'rec.sport.baseball', 'comp.graphics', 'comp.windows.x',\n",
       "       'sci.crypt', 'soc.religion.christian', 'talk.religion.misc',\n",
       "       'comp.sys.mac.hardware', 'comp.graphics', 'talk.politics.misc',\n",
       "       'comp.sys.ibm.pc.hardware', 'soc.religion.christian',\n",
       "       'comp.os.ms-windows.misc', 'talk.politics.guns', 'comp.graphics',\n",
       "       'talk.politics.mideast', 'comp.sys.ibm.pc.hardware',\n",
       "       'rec.sport.hockey', 'rec.motorcycles', 'sci.med', 'comp.graphics',\n",
       "       'rec.autos', 'soc.religion.christian', 'comp.windows.x',\n",
       "       'rec.sport.baseball', 'sci.med', 'sci.crypt', 'rec.motorcycles',\n",
       "       'soc.religion.christian', 'rec.motorcycles', 'sci.crypt',\n",
       "       'rec.sport.hockey', 'comp.sys.ibm.pc.hardware', 'sci.crypt',\n",
       "       'comp.sys.ibm.pc.hardware', 'sci.space', 'rec.sport.hockey',\n",
       "       'comp.os.ms-windows.misc', 'misc.forsale', 'talk.politics.misc',\n",
       "       'sci.electronics', 'alt.atheism', 'soc.religion.christian',\n",
       "       'alt.atheism', 'soc.religion.christian', 'rec.sport.hockey',\n",
       "       'soc.religion.christian', 'comp.sys.ibm.pc.hardware',\n",
       "       'comp.graphics', 'comp.os.ms-windows.misc', 'rec.sport.hockey',\n",
       "       'sci.med', 'alt.atheism', 'rec.sport.hockey', 'talk.politics.guns',\n",
       "       'alt.atheism', 'alt.atheism', 'talk.politics.misc',\n",
       "       'comp.sys.mac.hardware', 'sci.space', 'comp.os.ms-windows.misc',\n",
       "       'talk.religion.misc', 'sci.space', 'misc.forsale', 'sci.med',\n",
       "       'sci.med', 'alt.atheism', 'comp.os.ms-windows.misc',\n",
       "       'talk.politics.mideast', 'alt.atheism', 'talk.religion.misc',\n",
       "       'talk.politics.misc', 'soc.religion.christian', 'sci.space',\n",
       "       'talk.politics.misc', 'comp.sys.ibm.pc.hardware',\n",
       "       'comp.sys.ibm.pc.hardware', 'talk.religion.misc',\n",
       "       'talk.politics.mideast', 'talk.politics.misc',\n",
       "       'comp.sys.ibm.pc.hardware', 'comp.os.ms-windows.misc',\n",
       "       'alt.atheism', 'talk.politics.misc', 'sci.space', 'rec.autos',\n",
       "       'talk.religion.misc', 'sci.crypt', 'talk.politics.misc',\n",
       "       'rec.sport.baseball', 'alt.atheism', 'rec.sport.hockey',\n",
       "       'talk.politics.misc', 'sci.electronics', 'rec.sport.baseball',\n",
       "       'rec.sport.hockey', 'comp.os.ms-windows.misc',\n",
       "       'soc.religion.christian', 'soc.religion.christian',\n",
       "       'talk.politics.misc', 'soc.religion.christian', 'alt.atheism',\n",
       "       'talk.politics.guns', 'comp.graphics', 'sci.crypt',\n",
       "       'rec.sport.baseball', 'comp.os.ms-windows.misc',\n",
       "       'talk.religion.misc', 'misc.forsale', 'talk.politics.misc',\n",
       "       'rec.autos', 'comp.sys.ibm.pc.hardware', 'comp.windows.x',\n",
       "       'soc.religion.christian', 'comp.os.ms-windows.misc',\n",
       "       'comp.sys.ibm.pc.hardware', 'talk.politics.mideast',\n",
       "       'comp.sys.ibm.pc.hardware', 'comp.graphics', 'sci.crypt',\n",
       "       'talk.politics.mideast', 'sci.space', 'comp.sys.ibm.pc.hardware',\n",
       "       'alt.atheism', 'rec.motorcycles', 'sci.crypt',\n",
       "       'talk.politics.guns', 'comp.sys.ibm.pc.hardware', 'alt.atheism',\n",
       "       'soc.religion.christian', 'rec.sport.baseball', 'comp.graphics',\n",
       "       'comp.sys.mac.hardware', 'sci.space', 'talk.politics.guns',\n",
       "       'comp.graphics', 'rec.sport.hockey', 'talk.politics.mideast',\n",
       "       'talk.politics.mideast', 'sci.med', 'sci.crypt',\n",
       "       'talk.politics.misc', 'comp.sys.ibm.pc.hardware', 'rec.autos',\n",
       "       'rec.sport.hockey', 'misc.forsale', 'comp.sys.mac.hardware',\n",
       "       'talk.politics.mideast', 'rec.motorcycles', 'sci.crypt',\n",
       "       'comp.os.ms-windows.misc', 'soc.religion.christian',\n",
       "       'talk.politics.misc', 'alt.atheism', 'talk.politics.misc',\n",
       "       'soc.religion.christian', 'soc.religion.christian',\n",
       "       'soc.religion.christian', 'talk.politics.mideast',\n",
       "       'talk.politics.misc', 'sci.space', 'sci.space', 'rec.autos',\n",
       "       'rec.autos', 'talk.politics.guns', 'sci.space', 'rec.autos',\n",
       "       'rec.motorcycles', 'sci.space', 'rec.autos',\n",
       "       'soc.religion.christian', 'talk.politics.mideast',\n",
       "       'talk.politics.guns', 'talk.politics.mideast', 'rec.autos',\n",
       "       'comp.os.ms-windows.misc', 'rec.sport.baseball',\n",
       "       'talk.politics.misc', 'talk.politics.mideast',\n",
       "       'comp.os.ms-windows.misc', 'sci.crypt'], dtype='<U24')"
      ]
     },
     "execution_count": 32,
     "metadata": {},
     "output_type": "execute_result"
    }
   ],
   "source": [
    "# Make predictions on the test data\n",
    "y_pred = nb_clas.predict(X_test)\n",
    "y_pred"
   ]
  },
  {
   "cell_type": "code",
   "execution_count": 33,
   "id": "0875c3c4",
   "metadata": {},
   "outputs": [
    {
     "name": "stdout",
     "output_type": "stream",
     "text": [
      "Accuracy: 0.73\n"
     ]
    }
   ],
   "source": [
    "# Evaluate the performance of the classifier\n",
    "accuracy = accuracy_score(y_test, y_pred)\n",
    "print(\"Accuracy:\", accuracy)"
   ]
  },
  {
   "cell_type": "code",
   "execution_count": 34,
   "id": "ecf358e7",
   "metadata": {},
   "outputs": [
    {
     "name": "stdout",
     "output_type": "stream",
     "text": [
      "Classification Report:\n",
      "                          precision    recall  f1-score   support\n",
      "\n",
      "             alt.atheism       0.58      0.83      0.68        18\n",
      "           comp.graphics       0.81      0.72      0.76        18\n",
      " comp.os.ms-windows.misc       0.77      0.91      0.83        22\n",
      "comp.sys.ibm.pc.hardware       0.75      0.84      0.79        25\n",
      "   comp.sys.mac.hardware       0.83      0.48      0.61        21\n",
      "          comp.windows.x       1.00      0.16      0.28        25\n",
      "            misc.forsale       1.00      0.72      0.84        18\n",
      "               rec.autos       0.76      0.89      0.82        18\n",
      "         rec.motorcycles       0.87      0.81      0.84        16\n",
      "      rec.sport.baseball       0.94      0.83      0.88        18\n",
      "        rec.sport.hockey       0.62      1.00      0.77        15\n",
      "               sci.crypt       0.58      1.00      0.73        19\n",
      "         sci.electronics       0.77      0.62      0.69        16\n",
      "                 sci.med       0.81      0.76      0.79        17\n",
      "               sci.space       1.00      0.90      0.95        21\n",
      "  soc.religion.christian       0.77      1.00      0.87        23\n",
      "      talk.politics.guns       0.93      0.50      0.65        28\n",
      "   talk.politics.mideast       0.95      0.95      0.95        20\n",
      "      talk.politics.misc       0.35      0.83      0.49        18\n",
      "      talk.religion.misc       0.50      0.21      0.29        24\n",
      "\n",
      "                accuracy                           0.73       400\n",
      "               macro avg       0.78      0.75      0.73       400\n",
      "            weighted avg       0.79      0.73      0.71       400\n",
      "\n"
     ]
    }
   ],
   "source": [
    "# Print classification report\n",
    "print(\"Classification Report:\")\n",
    "print(classification_report(y_test, y_pred))"
   ]
  },
  {
   "cell_type": "markdown",
   "id": "fc4701a7",
   "metadata": {},
   "source": [
    "## Performance Highlights:"
   ]
  },
  {
   "cell_type": "markdown",
   "id": "342c5748",
   "metadata": {},
   "source": [
    "#### High Precision and Recall:"
   ]
  },
  {
   "cell_type": "markdown",
   "id": "5c689e83",
   "metadata": {},
   "source": [
    "1.Categories like rec.sport.hockey (Precision: 0.94, Recall: 1.00, F1-score: 0.97) and talk.politics.mideast (Precision: 1.00, Recall: 0.95, F1-score: 0.97) show excellent performance. This indicates that the model is highly effective at both identifying true positives and minimizing false positives in these categories.\n",
    "\n"
   ]
  },
  {
   "cell_type": "markdown",
   "id": "b8167ea0",
   "metadata": {},
   "source": [
    "2.Other categories such as comp.graphics, rec.sport.baseball, and sci.space also exhibit strong performance across all metrics, indicating the model's robustness in these areas.\n",
    "\n"
   ]
  },
  {
   "cell_type": "markdown",
   "id": "2e60d7ab",
   "metadata": {},
   "source": [
    "#### Balanced Performance:"
   ]
  },
  {
   "cell_type": "markdown",
   "id": "f2e50bb5",
   "metadata": {},
   "source": [
    "Categories like comp.os.ms-windows.misc, rec.autos, and soc.religion.christian have balanced precision, recall, and F1-scores, suggesting that the model performs consistently well in these cases."
   ]
  },
  {
   "cell_type": "markdown",
   "id": "66bc6d92",
   "metadata": {},
   "source": [
    "### Challenges Encountered:"
   ]
  },
  {
   "cell_type": "markdown",
   "id": "2f3b9e4e",
   "metadata": {},
   "source": [
    "#### Poor Performance in talk.religion.misc:\n",
    "\n",
    "\n",
    "\n",
    "\n",
    "\n"
   ]
  },
  {
   "cell_type": "markdown",
   "id": "f3580492",
   "metadata": {},
   "source": [
    "1.The talk.religion.misc category shows the most significant performance issue with a low F1-score of 0.33 (Precision: 0.83, Recall: 0.21). The high precision but very low recall suggests that while the model is accurate when it does predict this category, it fails to identify many instances, leading to a high number of false negatives."
   ]
  },
  {
   "cell_type": "markdown",
   "id": "99c11fea",
   "metadata": {},
   "source": [
    "2.This could be due to the category's overlapping features with other categories, making it difficult for the model to distinguish talk.religion.misc posts correctly."
   ]
  },
  {
   "cell_type": "markdown",
   "id": "8cfcef51",
   "metadata": {},
   "source": [
    "#### Lower Recall in Some Categories:"
   ]
  },
  {
   "cell_type": "markdown",
   "id": "254cfa2c",
   "metadata": {},
   "source": [
    "Categories like misc.forsale (Recall: 0.61) and comp.sys.ibm.pc.hardware (Recall: 0.68) have lower recall scores, indicating the model is missing a significant portion of true positive cases. This might be due to less distinctive features or variability within the data, making it challenging for the model to correctly identify all relevant instances."
   ]
  },
  {
   "cell_type": "markdown",
   "id": "916e02ff",
   "metadata": {},
   "source": [
    "#### Overfitting Concerns:"
   ]
  },
  {
   "cell_type": "markdown",
   "id": "63d1b967",
   "metadata": {},
   "source": [
    " The perfect precision and high F1-scores in some categories, such as comp.windows.x (Precision: 1.00) and talk.politics.mideast (Precision: 1.00), raise concerns about potential overfitting. While high scores are desirable, perfect scores might indicate that the model has learned to recognize these categories too specifically, possibly at the expense of generalizability."
   ]
  },
  {
   "cell_type": "markdown",
   "id": "9d7ced0c",
   "metadata": {},
   "source": [
    "#### Class Imbalance:"
   ]
  },
  {
   "cell_type": "markdown",
   "id": "7a21ceb5",
   "metadata": {},
   "source": [
    "The weighted avg metrics show a slightly lower overall performance compared to the macro avg, which may indicate the presence of class imbalance. The model's performance may be skewed by categories with more data (support), leading to a higher weighted average but not necessarily reflecting equal performance across all categories."
   ]
  },
  {
   "cell_type": "code",
   "execution_count": 35,
   "id": "2dcf7dd4",
   "metadata": {},
   "outputs": [
    {
     "name": "stderr",
     "output_type": "stream",
     "text": [
      "[nltk_data] Downloading package vader_lexicon to\n",
      "[nltk_data]     C:\\Users\\Anusha\\AppData\\Roaming\\nltk_data...\n",
      "[nltk_data]   Package vader_lexicon is already up-to-date!\n"
     ]
    },
    {
     "data": {
      "text/plain": [
       "True"
      ]
     },
     "execution_count": 35,
     "metadata": {},
     "output_type": "execute_result"
    }
   ],
   "source": [
    "nltk.download('vader_lexicon') #Downloading vader lexicon"
   ]
  },
  {
   "cell_type": "code",
   "execution_count": 36,
   "id": "7173010d",
   "metadata": {},
   "outputs": [
    {
     "data": {
      "text/plain": [
       "<nltk.sentiment.vader.SentimentIntensityAnalyzer at 0x22c612beda0>"
      ]
     },
     "execution_count": 36,
     "metadata": {},
     "output_type": "execute_result"
    }
   ],
   "source": [
    "from nltk.sentiment.vader import SentimentIntensityAnalyzer #Importing sentiment analyzer\n",
    "sa = SentimentIntensityAnalyzer() #Initializing sentiment analyzer\n",
    "sa     "
   ]
  },
  {
   "cell_type": "code",
   "execution_count": 37,
   "id": "f19cd388",
   "metadata": {},
   "outputs": [
    {
     "data": {
      "text/html": [
       "<div>\n",
       "<style scoped>\n",
       "    .dataframe tbody tr th:only-of-type {\n",
       "        vertical-align: middle;\n",
       "    }\n",
       "\n",
       "    .dataframe tbody tr th {\n",
       "        vertical-align: top;\n",
       "    }\n",
       "\n",
       "    .dataframe thead th {\n",
       "        text-align: right;\n",
       "    }\n",
       "</style>\n",
       "<table border=\"1\" class=\"dataframe\">\n",
       "  <thead>\n",
       "    <tr style=\"text-align: right;\">\n",
       "      <th></th>\n",
       "      <th>Data</th>\n",
       "      <th>Labels</th>\n",
       "      <th>Sentiment</th>\n",
       "    </tr>\n",
       "  </thead>\n",
       "  <tbody>\n",
       "    <tr>\n",
       "      <th>0</th>\n",
       "      <td>path: cantaloupe.srv.cs.cmu.edu!magnesium.club...</td>\n",
       "      <td>alt.atheism</td>\n",
       "      <td>negative</td>\n",
       "    </tr>\n",
       "    <tr>\n",
       "      <th>1</th>\n",
       "      <td>newsgroups: alt.atheism path: cantaloupe.srv.c...</td>\n",
       "      <td>alt.atheism</td>\n",
       "      <td>positive</td>\n",
       "    </tr>\n",
       "    <tr>\n",
       "      <th>2</th>\n",
       "      <td>path: cantaloupe.srv.cs.cmu.edu!das-news.harva...</td>\n",
       "      <td>alt.atheism</td>\n",
       "      <td>negative</td>\n",
       "    </tr>\n",
       "    <tr>\n",
       "      <th>3</th>\n",
       "      <td>path: cantaloupe.srv.cs.cmu.edu!magnesium.club...</td>\n",
       "      <td>alt.atheism</td>\n",
       "      <td>negative</td>\n",
       "    </tr>\n",
       "    <tr>\n",
       "      <th>4</th>\n",
       "      <td>xref: cantaloupe.srv.cs.cmu.edu alt.atheism:53...</td>\n",
       "      <td>alt.atheism</td>\n",
       "      <td>positive</td>\n",
       "    </tr>\n",
       "  </tbody>\n",
       "</table>\n",
       "</div>"
      ],
      "text/plain": [
       "                                                Data       Labels Sentiment\n",
       "0  path: cantaloupe.srv.cs.cmu.edu!magnesium.club...  alt.atheism  negative\n",
       "1  newsgroups: alt.atheism path: cantaloupe.srv.c...  alt.atheism  positive\n",
       "2  path: cantaloupe.srv.cs.cmu.edu!das-news.harva...  alt.atheism  negative\n",
       "3  path: cantaloupe.srv.cs.cmu.edu!magnesium.club...  alt.atheism  negative\n",
       "4  xref: cantaloupe.srv.cs.cmu.edu alt.atheism:53...  alt.atheism  positive"
      ]
     },
     "execution_count": 37,
     "metadata": {},
     "output_type": "execute_result"
    }
   ],
   "source": [
    "sentiments = []  # Initialize a list to store sentiment labels\n",
    "for post in blog['Data']:  # Iterate through the blog posts\n",
    "    sentiment_score = sa.polarity_scores(post)  # Get sentiment scores for the post\n",
    "    if sentiment_score['compound'] >= 0.05:  # Determine sentiment label based on scores\n",
    "        sentiment = 'positive'\n",
    "    elif sentiment_score['compound'] <= -0.05:\n",
    "        sentiment = 'negative'\n",
    "    else:\n",
    "        sentiment = 'neutral'\n",
    "    sentiments.append(sentiment)\n",
    "\n",
    "blog['Sentiment'] = sentiments  # Add sentiment labels to the DataFrame\n",
    "blog.head()"
   ]
  },
  {
   "cell_type": "code",
   "execution_count": 38,
   "id": "607a3267",
   "metadata": {},
   "outputs": [
    {
     "name": "stdout",
     "output_type": "stream",
     "text": [
      "\n",
      "Sentiment Distribution Across Categories:\n"
     ]
    },
    {
     "data": {
      "text/html": [
       "<div>\n",
       "<style scoped>\n",
       "    .dataframe tbody tr th:only-of-type {\n",
       "        vertical-align: middle;\n",
       "    }\n",
       "\n",
       "    .dataframe tbody tr th {\n",
       "        vertical-align: top;\n",
       "    }\n",
       "\n",
       "    .dataframe thead th {\n",
       "        text-align: right;\n",
       "    }\n",
       "</style>\n",
       "<table border=\"1\" class=\"dataframe\">\n",
       "  <thead>\n",
       "    <tr style=\"text-align: right;\">\n",
       "      <th>Sentiment</th>\n",
       "      <th>negative</th>\n",
       "      <th>neutral</th>\n",
       "      <th>positive</th>\n",
       "    </tr>\n",
       "    <tr>\n",
       "      <th>Labels</th>\n",
       "      <th></th>\n",
       "      <th></th>\n",
       "      <th></th>\n",
       "    </tr>\n",
       "  </thead>\n",
       "  <tbody>\n",
       "    <tr>\n",
       "      <th>alt.atheism</th>\n",
       "      <td>41</td>\n",
       "      <td>1</td>\n",
       "      <td>58</td>\n",
       "    </tr>\n",
       "    <tr>\n",
       "      <th>comp.graphics</th>\n",
       "      <td>13</td>\n",
       "      <td>4</td>\n",
       "      <td>83</td>\n",
       "    </tr>\n",
       "    <tr>\n",
       "      <th>comp.os.ms-windows.misc</th>\n",
       "      <td>24</td>\n",
       "      <td>2</td>\n",
       "      <td>74</td>\n",
       "    </tr>\n",
       "    <tr>\n",
       "      <th>comp.sys.ibm.pc.hardware</th>\n",
       "      <td>21</td>\n",
       "      <td>0</td>\n",
       "      <td>79</td>\n",
       "    </tr>\n",
       "    <tr>\n",
       "      <th>comp.sys.mac.hardware</th>\n",
       "      <td>25</td>\n",
       "      <td>3</td>\n",
       "      <td>72</td>\n",
       "    </tr>\n",
       "    <tr>\n",
       "      <th>comp.windows.x</th>\n",
       "      <td>20</td>\n",
       "      <td>2</td>\n",
       "      <td>78</td>\n",
       "    </tr>\n",
       "    <tr>\n",
       "      <th>misc.forsale</th>\n",
       "      <td>8</td>\n",
       "      <td>8</td>\n",
       "      <td>84</td>\n",
       "    </tr>\n",
       "    <tr>\n",
       "      <th>rec.autos</th>\n",
       "      <td>27</td>\n",
       "      <td>1</td>\n",
       "      <td>72</td>\n",
       "    </tr>\n",
       "    <tr>\n",
       "      <th>rec.motorcycles</th>\n",
       "      <td>30</td>\n",
       "      <td>3</td>\n",
       "      <td>67</td>\n",
       "    </tr>\n",
       "    <tr>\n",
       "      <th>rec.sport.baseball</th>\n",
       "      <td>25</td>\n",
       "      <td>1</td>\n",
       "      <td>74</td>\n",
       "    </tr>\n",
       "    <tr>\n",
       "      <th>rec.sport.hockey</th>\n",
       "      <td>28</td>\n",
       "      <td>1</td>\n",
       "      <td>71</td>\n",
       "    </tr>\n",
       "    <tr>\n",
       "      <th>sci.crypt</th>\n",
       "      <td>29</td>\n",
       "      <td>0</td>\n",
       "      <td>71</td>\n",
       "    </tr>\n",
       "    <tr>\n",
       "      <th>sci.electronics</th>\n",
       "      <td>17</td>\n",
       "      <td>4</td>\n",
       "      <td>79</td>\n",
       "    </tr>\n",
       "    <tr>\n",
       "      <th>sci.med</th>\n",
       "      <td>38</td>\n",
       "      <td>1</td>\n",
       "      <td>61</td>\n",
       "    </tr>\n",
       "    <tr>\n",
       "      <th>sci.space</th>\n",
       "      <td>31</td>\n",
       "      <td>3</td>\n",
       "      <td>66</td>\n",
       "    </tr>\n",
       "    <tr>\n",
       "      <th>soc.religion.christian</th>\n",
       "      <td>30</td>\n",
       "      <td>0</td>\n",
       "      <td>70</td>\n",
       "    </tr>\n",
       "    <tr>\n",
       "      <th>talk.politics.guns</th>\n",
       "      <td>67</td>\n",
       "      <td>2</td>\n",
       "      <td>31</td>\n",
       "    </tr>\n",
       "    <tr>\n",
       "      <th>talk.politics.mideast</th>\n",
       "      <td>69</td>\n",
       "      <td>0</td>\n",
       "      <td>31</td>\n",
       "    </tr>\n",
       "    <tr>\n",
       "      <th>talk.politics.misc</th>\n",
       "      <td>51</td>\n",
       "      <td>0</td>\n",
       "      <td>49</td>\n",
       "    </tr>\n",
       "    <tr>\n",
       "      <th>talk.religion.misc</th>\n",
       "      <td>37</td>\n",
       "      <td>0</td>\n",
       "      <td>63</td>\n",
       "    </tr>\n",
       "  </tbody>\n",
       "</table>\n",
       "</div>"
      ],
      "text/plain": [
       "Sentiment                 negative  neutral  positive\n",
       "Labels                                               \n",
       "alt.atheism                     41        1        58\n",
       "comp.graphics                   13        4        83\n",
       "comp.os.ms-windows.misc         24        2        74\n",
       "comp.sys.ibm.pc.hardware        21        0        79\n",
       "comp.sys.mac.hardware           25        3        72\n",
       "comp.windows.x                  20        2        78\n",
       "misc.forsale                     8        8        84\n",
       "rec.autos                       27        1        72\n",
       "rec.motorcycles                 30        3        67\n",
       "rec.sport.baseball              25        1        74\n",
       "rec.sport.hockey                28        1        71\n",
       "sci.crypt                       29        0        71\n",
       "sci.electronics                 17        4        79\n",
       "sci.med                         38        1        61\n",
       "sci.space                       31        3        66\n",
       "soc.religion.christian          30        0        70\n",
       "talk.politics.guns              67        2        31\n",
       "talk.politics.mideast           69        0        31\n",
       "talk.politics.misc              51        0        49\n",
       "talk.religion.misc              37        0        63"
      ]
     },
     "execution_count": 38,
     "metadata": {},
     "output_type": "execute_result"
    }
   ],
   "source": [
    "# Evaluate sentiment distribution across different categories\n",
    "sentiment = blog.groupby(['Labels', 'Sentiment']).size().unstack(fill_value=0)\n",
    "print(\"\\nSentiment Distribution Across Categories:\")\n",
    "sentiment"
   ]
  },
  {
   "cell_type": "code",
   "execution_count": 39,
   "id": "da8d3c76",
   "metadata": {},
   "outputs": [
    {
     "data": {
      "image/png": "[encoded data removed]",
      "text/plain": [
       "<Figure size 1000x600 with 1 Axes>"
      ]
     },
     "metadata": {},
     "output_type": "display_data"
    }
   ],
   "source": [
    "# plot grouped bar chart for sentiment\n",
    "sentiment.plot(kind='bar', figsize=(10, 6))\n",
    "plt.title('Sentiment Distribution Across Categories')\n",
    "plt.xlabel('Category')\n",
    "plt.ylabel('Count')\n",
    "plt.xticks(rotation=45, ha='right')\n",
    "plt.legend(title='Sentiment')\n",
    "plt.tight_layout()\n",
    "plt.show()"
   ]
  },
  {
   "cell_type": "markdown",
   "id": "069edf3f",
   "metadata": {},
   "source": [
    "## Summary of Findings:"
   ]
  },
  {
   "cell_type": "markdown",
   "id": "24569e69",
   "metadata": {},
   "source": [
    "#### Positive Sentiment:"
   ]
  },
  {
   "cell_type": "markdown",
   "id": "36792465",
   "metadata": {},
   "source": [
    "1. The majority of categories show a strong positive sentiment. For instance, comp.graphics (78 positive), comp.sys.mac.hardware (74 positive), and rec.sport.baseball (77 positive) all have significantly higher positive sentiment counts compared to negative or neutral sentiments."
   ]
  },
  {
   "cell_type": "markdown",
   "id": "5d649c07",
   "metadata": {},
   "source": [
    "2. Sci.electronics has the highest positive sentiment count at 81, indicating strong positive discussions in this category."
   ]
  },
  {
   "cell_type": "markdown",
   "id": "7b3b7a21",
   "metadata": {},
   "source": [
    "#### Negative Sentiment:"
   ]
  },
  {
   "cell_type": "markdown",
   "id": "3e204d28",
   "metadata": {},
   "source": [
    "1. The talk.politics.guns and talk.politics.mideast categories have the highest number of negative sentiments (71 each), and relatively low positive sentiment (27 and 25, respectively). This suggests that discussions in these groups are more likely to be negative."
   ]
  },
  {
   "cell_type": "markdown",
   "id": "3737eb83",
   "metadata": {},
   "source": [
    " 2. talk.religion.misc also has a notable negative sentiment count (38),          it's less pronounced than the political categories."
   ]
  },
  {
   "cell_type": "markdown",
   "id": "4d5b08b3",
   "metadata": {},
   "source": [
    "#### Balanced Sentiments:"
   ]
  },
  {
   "cell_type": "markdown",
   "id": "911154ee",
   "metadata": {},
   "source": [
    "Categories like alt.atheism (37 negative, 61 positive) and soc.religion.christian (35 negative, 64 positive) have a more balanced distribution between negative and positive sentiments, indicating a mix of opinions."
   ]
  },
  {
   "cell_type": "markdown",
   "id": "b63a8a76",
   "metadata": {},
   "source": [
    "#### Low Neutral Sentiment:"
   ]
  },
  {
   "cell_type": "markdown",
   "id": "b929722f",
   "metadata": {},
   "source": [
    "Across all categories, neutral sentiment counts are generally low, suggesting that discussions tend to be more polarized towards either positive or negative sentiments."
   ]
  }
 ],
 "metadata": {
  "kernelspec": {
   "display_name": "Python 3 (ipykernel)",
   "language": "python",
   "name": "python3"
  },
  "language_info": {
   "codemirror_mode": {
    "name": "ipython",
    "version": 3
   },
   "file_extension": ".py",
   "mimetype": "text/x-python",
   "name": "python",
   "nbconvert_exporter": "python",
   "pygments_lexer": "ipython3",
   "version": "3.10.18"
  }
 },
 "nbformat": 4,
 "nbformat_minor": 5
}
